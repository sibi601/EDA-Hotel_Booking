{
  "nbformat": 4,
  "nbformat_minor": 0,
  "metadata": {
    "colab": {
      "provenance": [],
      "collapsed_sections": [
        "HfXg6Vec--5Y",
        "f_bYLZm9BDoG",
        "rlkVnHSiM-41",
        "OzSbgJofz5hN",
        "P1WD2ef_z5hO",
        "fge-S5ZAYoAp",
        "GLluSVEv9eki",
        "PjxsQzcA9Zyj",
        "nA_W62lZFcXf",
        "JcMwzZxoAimU",
        "8G2x9gOozGDZ",
        "gCX9965dhzqZ",
        "gIfDvo9L0UH2"
      ],
      "include_colab_link": true
    },
    "kernelspec": {
      "name": "python3",
      "display_name": "Python 3"
    },
    "language_info": {
      "name": "python"
    },
    "accelerator": "TPU",
    "gpuClass": "standard"
  },
  "cells": [
    {
      "cell_type": "markdown",
      "metadata": {
        "id": "view-in-github",
        "colab_type": "text"
      },
      "source": [
        "<a href=\"https://colab.research.google.com/github/sibi601/EDA-Hotel_Booking/blob/main/EDA_hotel_booking_analysis_capstoneproject_SIBIN_IQBAL.ipynb\" target=\"_parent\"><img src=\"https://colab.research.google.com/assets/colab-badge.svg\" alt=\"Open In Colab\"/></a>"
      ]
    },
    {
      "cell_type": "markdown",
      "source": [
        "# **Project Name**    - **Hotel Booking Analysis**\n",
        "\n"
      ],
      "metadata": {
        "id": "vncDsAP0Gaoa"
      }
    },
    {
      "cell_type": "markdown",
      "source": [
        "##### **Project Type**    - EDA\n",
        "##### **Contribution**    - Individual\n",
        "##### **Name**    - SIBIN IQBAL\n"
      ],
      "metadata": {
        "id": "beRrZCGUAJYm"
      }
    },
    {
      "cell_type": "markdown",
      "source": [
        "# **Project Summary -**"
      ],
      "metadata": {
        "id": "FJNUwmbgGyua"
      }
    },
    {
      "cell_type": "markdown",
      "source": [
        "Introduction:\n",
        "\n",
        "The purpose of this EDA is to analyze a hotel booking dataset and understand the key trends, patterns and insights related to hotel bookings. The objective is to use this analysis to identify potential opportunities for the hotel to improve its booking performance.\n",
        "\n",
        "Data Description:\n",
        "\n",
        "The hotel booking dataset used for this analysis contains columns like hotel,is_canceled,lead_time,arrival_date_year,arrival_date_month,arrival_date_week_number,arrival_date_day_of_month,stays_in_weekend_nights etc.\n",
        "Initially,The dataset contains over  119390 rows and 32 columns.\n",
        "\n",
        "Data Cleaning and Preparation:\n",
        "\n",
        "The first step in the analysis was to clean and prepare the data for analysis. This involved removing missing values, converting data into appropriate formats and dealing with any outliers.\n",
        "It was found that 31994 duplicate rows.So ,I removed the duplicates and finally we had 87396 rows and 32 columns.I removed the null values with relevant values: Four columns were there with null values namely 'company' , 'agent' , 'country' and 'children'then changed the data type of columns 'children' and 'agent'.ThenI added mainly three columns which can be further used in the project for data visualization and for providing more detailed information.They are 'total_night_spent', 'total_guest' and 'earnings'. In order to find the 'total_night_spent' ,I took sum of the columns 'stays_in_week_nights' and 'stays_in_weekend_nights'. I find the 'earnings' by multiplying 'total_night_spent' and 'adr'. Lastly Inorder to find the 'total_guest', I added 'adults', 'children' and 'babies'.\n",
        "\n",
        "After the above steps Univariate Analysis, Bivariate Analysis, Multivariate Analysis followed by suggestions to client and finally made a conclusion with the prepared analysis."
      ],
      "metadata": {
        "id": "F6v_1wHtG2nS"
      }
    },
    {
      "cell_type": "markdown",
      "source": [
        "# **GitHub Link -**"
      ],
      "metadata": {
        "id": "w6K7xa23Elo4"
      }
    },
    {
      "cell_type": "markdown",
      "source": [
        "https://github.com/sibi601/EDA-Hotel_Booking"
      ],
      "metadata": {
        "id": "h1o69JH3Eqqn"
      }
    },
    {
      "cell_type": "markdown",
      "source": [
        "# **Problem Statement**\n"
      ],
      "metadata": {
        "id": "yQaldy8SH6Dl"
      }
    },
    {
      "cell_type": "markdown",
      "source": [
        "**BUSINESS PROBLEM OVERVIEW**\n",
        "\n",
        "There is a lack of insight into customer booking behavior, resulting in poor occupancy rates and revenue. The problem statement is to analyze customer booking data to identify patterns and trends in customer behavior, and use this information to inform decisions that will increase occupancy rates and revenue for the hotel.It mentions the lack of insight into customer booking behavior and it's negative impact, measurable as it mentions about poor occupancy rate and revenue, and actionable as it proposed to analyze data, identify patterns and trends and use that information to make decision.\n"
      ],
      "metadata": {
        "id": "DpeJGUA3kjGy"
      }
    },
    {
      "cell_type": "markdown",
      "source": [
        "#### **Define Your Business Objective?**"
      ],
      "metadata": {
        "id": "PH-0ReGfmX4f"
      }
    },
    {
      "cell_type": "markdown",
      "source": [
        "To inform decisions that will ultimately increase revenue and improve customer satisfaction for the hotel, by optimizing pricing strategies, inventory management, targeting specific customer segments, identifying opportunities for upselling and cross-selling and analyzing distribution channels."
      ],
      "metadata": {
        "id": "PhDvGCAqmjP1"
      }
    },
    {
      "cell_type": "markdown",
      "source": [
        "# **General Guidelines** : -  "
      ],
      "metadata": {
        "id": "mDgbUHAGgjLW"
      }
    },
    {
      "cell_type": "markdown",
      "source": [
        "1.   Well-structured, formatted, and commented code is required. \n",
        "2.   Exception Handling, Production Grade Code & Deployment Ready Code will be a plus. Those students will be awarded some additional credits. \n",
        "     \n",
        "     The additional credits will have advantages over other students during Star Student selection.\n",
        "       \n",
        "             [ Note: - Deployment Ready Code is defined as, the whole .ipynb notebook should be executable in one go\n",
        "                       without a single error logged. ]\n",
        "\n",
        "3.   Each and every logic should have proper comments.\n",
        "4. You may add as many number of charts you want. Make Sure for each and every chart the following format should be answered.\n",
        "        \n",
        "\n",
        "```\n",
        "# Chart visualization code\n",
        "```\n",
        "            \n",
        "\n",
        "*   Why did you pick the specific chart?\n",
        "*   What is/are the insight(s) found from the chart?\n",
        "* Will the gained insights help creating a positive business impact? \n",
        "Are there any insights that lead to negative growth? Justify with specific reason.\n",
        "\n",
        "5. You have to create at least 20 logical & meaningful charts having important insights.\n",
        "\n",
        "\n",
        "[ Hints : - Do the Vizualization in  a structured way while following \"UBM\" Rule. \n",
        "\n",
        "U - Univariate Analysis,\n",
        "\n",
        "B - Bivariate Analysis (Numerical - Categorical, Numerical - Numerical, Categorical - Categorical)\n",
        "\n",
        "M - Multivariate Analysis\n",
        " ]\n",
        "\n",
        "\n",
        "\n"
      ],
      "metadata": {
        "id": "ZrxVaUj-hHfC"
      }
    },
    {
      "cell_type": "markdown",
      "source": [
        "# ***Let's Begin !***"
      ],
      "metadata": {
        "id": "O_i_v8NEhb9l"
      }
    },
    {
      "cell_type": "markdown",
      "source": [
        "## ***1. Know Your Data***"
      ],
      "metadata": {
        "id": "HhfV-JJviCcP"
      }
    },
    {
      "cell_type": "markdown",
      "source": [
        "### Import Libraries"
      ],
      "metadata": {
        "id": "Y3lxredqlCYt"
      }
    },
    {
      "cell_type": "code",
      "source": [
        "# Import Libraries\n",
        "\n",
        "import numpy as np\n",
        "import pandas as pd\n",
        "from numpy import math\n",
        "from numpy import loadtxt\n",
        "import seaborn as sns\n",
        "import matplotlib.pyplot as plt\n",
        "%matplotlib inline\n",
        "from matplotlib import rcParams"
      ],
      "metadata": {
        "id": "M8Vqi-pPk-HR"
      },
      "execution_count": 1,
      "outputs": []
    },
    {
      "cell_type": "markdown",
      "source": [
        "### Dataset Loading"
      ],
      "metadata": {
        "id": "3RnN4peoiCZX"
      }
    },
    {
      "cell_type": "code",
      "source": [
        "#Mounting google drive\n",
        "from google.colab import drive\n",
        "drive.mount('/content/drive')"
      ],
      "metadata": {
        "id": "lBVttTEpMvjo",
        "colab": {
          "base_uri": "https://localhost:8080/"
        },
        "outputId": "4142f160-ccef-4f25-d84c-63f6d1b583e8"
      },
      "execution_count": 2,
      "outputs": [
        {
          "output_type": "stream",
          "name": "stdout",
          "text": [
            "Mounted at /content/drive\n"
          ]
        }
      ]
    },
    {
      "cell_type": "code",
      "source": [
        "# Load Dataset\n",
        "\n",
        "hb_df=pd.read_csv(\"/content/drive/MyDrive/Colab Notebooks/ASSIGNMENTS/MODULE 1/EDA-CAPSTONE PROJECT/Hotel Bookings.csv\")"
      ],
      "metadata": {
        "id": "4CkvbW_SlZ_R"
      },
      "execution_count": 3,
      "outputs": []
    },
    {
      "cell_type": "markdown",
      "source": [
        "### Dataset First View"
      ],
      "metadata": {
        "id": "x71ZqKXriCWQ"
      }
    },
    {
      "cell_type": "code",
      "source": [
        "# Dataset First Look\n",
        "hb_df.head()"
      ],
      "metadata": {
        "id": "LWNFOSvLl09H",
        "colab": {
          "base_uri": "https://localhost:8080/",
          "height": 0
        },
        "outputId": "ec9c08db-c99d-4de8-d4b3-17c76f6dbf64"
      },
      "execution_count": 4,
      "outputs": [
        {
          "output_type": "execute_result",
          "data": {
            "text/plain": [
              "          hotel  is_canceled  lead_time  arrival_date_year arrival_date_month  \\\n",
              "0  Resort Hotel            0        342               2015               July   \n",
              "1  Resort Hotel            0        737               2015               July   \n",
              "2  Resort Hotel            0          7               2015               July   \n",
              "3  Resort Hotel            0         13               2015               July   \n",
              "4  Resort Hotel            0         14               2015               July   \n",
              "\n",
              "   arrival_date_week_number  arrival_date_day_of_month  \\\n",
              "0                        27                          1   \n",
              "1                        27                          1   \n",
              "2                        27                          1   \n",
              "3                        27                          1   \n",
              "4                        27                          1   \n",
              "\n",
              "   stays_in_weekend_nights  stays_in_week_nights  adults  ...  deposit_type  \\\n",
              "0                        0                     0       2  ...    No Deposit   \n",
              "1                        0                     0       2  ...    No Deposit   \n",
              "2                        0                     1       1  ...    No Deposit   \n",
              "3                        0                     1       1  ...    No Deposit   \n",
              "4                        0                     2       2  ...    No Deposit   \n",
              "\n",
              "   agent company days_in_waiting_list customer_type   adr  \\\n",
              "0    NaN     NaN                    0     Transient   0.0   \n",
              "1    NaN     NaN                    0     Transient   0.0   \n",
              "2    NaN     NaN                    0     Transient  75.0   \n",
              "3  304.0     NaN                    0     Transient  75.0   \n",
              "4  240.0     NaN                    0     Transient  98.0   \n",
              "\n",
              "   required_car_parking_spaces  total_of_special_requests  reservation_status  \\\n",
              "0                            0                          0           Check-Out   \n",
              "1                            0                          0           Check-Out   \n",
              "2                            0                          0           Check-Out   \n",
              "3                            0                          0           Check-Out   \n",
              "4                            0                          1           Check-Out   \n",
              "\n",
              "  reservation_status_date  \n",
              "0              2015-07-01  \n",
              "1              2015-07-01  \n",
              "2              2015-07-02  \n",
              "3              2015-07-02  \n",
              "4              2015-07-03  \n",
              "\n",
              "[5 rows x 32 columns]"
            ],
            "text/html": [
              "\n",
              "  <div id=\"df-2f6f93cf-2f6b-41d1-b556-8ece4db90878\">\n",
              "    <div class=\"colab-df-container\">\n",
              "      <div>\n",
              "<style scoped>\n",
              "    .dataframe tbody tr th:only-of-type {\n",
              "        vertical-align: middle;\n",
              "    }\n",
              "\n",
              "    .dataframe tbody tr th {\n",
              "        vertical-align: top;\n",
              "    }\n",
              "\n",
              "    .dataframe thead th {\n",
              "        text-align: right;\n",
              "    }\n",
              "</style>\n",
              "<table border=\"1\" class=\"dataframe\">\n",
              "  <thead>\n",
              "    <tr style=\"text-align: right;\">\n",
              "      <th></th>\n",
              "      <th>hotel</th>\n",
              "      <th>is_canceled</th>\n",
              "      <th>lead_time</th>\n",
              "      <th>arrival_date_year</th>\n",
              "      <th>arrival_date_month</th>\n",
              "      <th>arrival_date_week_number</th>\n",
              "      <th>arrival_date_day_of_month</th>\n",
              "      <th>stays_in_weekend_nights</th>\n",
              "      <th>stays_in_week_nights</th>\n",
              "      <th>adults</th>\n",
              "      <th>...</th>\n",
              "      <th>deposit_type</th>\n",
              "      <th>agent</th>\n",
              "      <th>company</th>\n",
              "      <th>days_in_waiting_list</th>\n",
              "      <th>customer_type</th>\n",
              "      <th>adr</th>\n",
              "      <th>required_car_parking_spaces</th>\n",
              "      <th>total_of_special_requests</th>\n",
              "      <th>reservation_status</th>\n",
              "      <th>reservation_status_date</th>\n",
              "    </tr>\n",
              "  </thead>\n",
              "  <tbody>\n",
              "    <tr>\n",
              "      <th>0</th>\n",
              "      <td>Resort Hotel</td>\n",
              "      <td>0</td>\n",
              "      <td>342</td>\n",
              "      <td>2015</td>\n",
              "      <td>July</td>\n",
              "      <td>27</td>\n",
              "      <td>1</td>\n",
              "      <td>0</td>\n",
              "      <td>0</td>\n",
              "      <td>2</td>\n",
              "      <td>...</td>\n",
              "      <td>No Deposit</td>\n",
              "      <td>NaN</td>\n",
              "      <td>NaN</td>\n",
              "      <td>0</td>\n",
              "      <td>Transient</td>\n",
              "      <td>0.0</td>\n",
              "      <td>0</td>\n",
              "      <td>0</td>\n",
              "      <td>Check-Out</td>\n",
              "      <td>2015-07-01</td>\n",
              "    </tr>\n",
              "    <tr>\n",
              "      <th>1</th>\n",
              "      <td>Resort Hotel</td>\n",
              "      <td>0</td>\n",
              "      <td>737</td>\n",
              "      <td>2015</td>\n",
              "      <td>July</td>\n",
              "      <td>27</td>\n",
              "      <td>1</td>\n",
              "      <td>0</td>\n",
              "      <td>0</td>\n",
              "      <td>2</td>\n",
              "      <td>...</td>\n",
              "      <td>No Deposit</td>\n",
              "      <td>NaN</td>\n",
              "      <td>NaN</td>\n",
              "      <td>0</td>\n",
              "      <td>Transient</td>\n",
              "      <td>0.0</td>\n",
              "      <td>0</td>\n",
              "      <td>0</td>\n",
              "      <td>Check-Out</td>\n",
              "      <td>2015-07-01</td>\n",
              "    </tr>\n",
              "    <tr>\n",
              "      <th>2</th>\n",
              "      <td>Resort Hotel</td>\n",
              "      <td>0</td>\n",
              "      <td>7</td>\n",
              "      <td>2015</td>\n",
              "      <td>July</td>\n",
              "      <td>27</td>\n",
              "      <td>1</td>\n",
              "      <td>0</td>\n",
              "      <td>1</td>\n",
              "      <td>1</td>\n",
              "      <td>...</td>\n",
              "      <td>No Deposit</td>\n",
              "      <td>NaN</td>\n",
              "      <td>NaN</td>\n",
              "      <td>0</td>\n",
              "      <td>Transient</td>\n",
              "      <td>75.0</td>\n",
              "      <td>0</td>\n",
              "      <td>0</td>\n",
              "      <td>Check-Out</td>\n",
              "      <td>2015-07-02</td>\n",
              "    </tr>\n",
              "    <tr>\n",
              "      <th>3</th>\n",
              "      <td>Resort Hotel</td>\n",
              "      <td>0</td>\n",
              "      <td>13</td>\n",
              "      <td>2015</td>\n",
              "      <td>July</td>\n",
              "      <td>27</td>\n",
              "      <td>1</td>\n",
              "      <td>0</td>\n",
              "      <td>1</td>\n",
              "      <td>1</td>\n",
              "      <td>...</td>\n",
              "      <td>No Deposit</td>\n",
              "      <td>304.0</td>\n",
              "      <td>NaN</td>\n",
              "      <td>0</td>\n",
              "      <td>Transient</td>\n",
              "      <td>75.0</td>\n",
              "      <td>0</td>\n",
              "      <td>0</td>\n",
              "      <td>Check-Out</td>\n",
              "      <td>2015-07-02</td>\n",
              "    </tr>\n",
              "    <tr>\n",
              "      <th>4</th>\n",
              "      <td>Resort Hotel</td>\n",
              "      <td>0</td>\n",
              "      <td>14</td>\n",
              "      <td>2015</td>\n",
              "      <td>July</td>\n",
              "      <td>27</td>\n",
              "      <td>1</td>\n",
              "      <td>0</td>\n",
              "      <td>2</td>\n",
              "      <td>2</td>\n",
              "      <td>...</td>\n",
              "      <td>No Deposit</td>\n",
              "      <td>240.0</td>\n",
              "      <td>NaN</td>\n",
              "      <td>0</td>\n",
              "      <td>Transient</td>\n",
              "      <td>98.0</td>\n",
              "      <td>0</td>\n",
              "      <td>1</td>\n",
              "      <td>Check-Out</td>\n",
              "      <td>2015-07-03</td>\n",
              "    </tr>\n",
              "  </tbody>\n",
              "</table>\n",
              "<p>5 rows × 32 columns</p>\n",
              "</div>\n",
              "      <button class=\"colab-df-convert\" onclick=\"convertToInteractive('df-2f6f93cf-2f6b-41d1-b556-8ece4db90878')\"\n",
              "              title=\"Convert this dataframe to an interactive table.\"\n",
              "              style=\"display:none;\">\n",
              "        \n",
              "  <svg xmlns=\"http://www.w3.org/2000/svg\" height=\"24px\"viewBox=\"0 0 24 24\"\n",
              "       width=\"24px\">\n",
              "    <path d=\"M0 0h24v24H0V0z\" fill=\"none\"/>\n",
              "    <path d=\"M18.56 5.44l.94 2.06.94-2.06 2.06-.94-2.06-.94-.94-2.06-.94 2.06-2.06.94zm-11 1L8.5 8.5l.94-2.06 2.06-.94-2.06-.94L8.5 2.5l-.94 2.06-2.06.94zm10 10l.94 2.06.94-2.06 2.06-.94-2.06-.94-.94-2.06-.94 2.06-2.06.94z\"/><path d=\"M17.41 7.96l-1.37-1.37c-.4-.4-.92-.59-1.43-.59-.52 0-1.04.2-1.43.59L10.3 9.45l-7.72 7.72c-.78.78-.78 2.05 0 2.83L4 21.41c.39.39.9.59 1.41.59.51 0 1.02-.2 1.41-.59l7.78-7.78 2.81-2.81c.8-.78.8-2.07 0-2.86zM5.41 20L4 18.59l7.72-7.72 1.47 1.35L5.41 20z\"/>\n",
              "  </svg>\n",
              "      </button>\n",
              "      \n",
              "  <style>\n",
              "    .colab-df-container {\n",
              "      display:flex;\n",
              "      flex-wrap:wrap;\n",
              "      gap: 12px;\n",
              "    }\n",
              "\n",
              "    .colab-df-convert {\n",
              "      background-color: #E8F0FE;\n",
              "      border: none;\n",
              "      border-radius: 50%;\n",
              "      cursor: pointer;\n",
              "      display: none;\n",
              "      fill: #1967D2;\n",
              "      height: 32px;\n",
              "      padding: 0 0 0 0;\n",
              "      width: 32px;\n",
              "    }\n",
              "\n",
              "    .colab-df-convert:hover {\n",
              "      background-color: #E2EBFA;\n",
              "      box-shadow: 0px 1px 2px rgba(60, 64, 67, 0.3), 0px 1px 3px 1px rgba(60, 64, 67, 0.15);\n",
              "      fill: #174EA6;\n",
              "    }\n",
              "\n",
              "    [theme=dark] .colab-df-convert {\n",
              "      background-color: #3B4455;\n",
              "      fill: #D2E3FC;\n",
              "    }\n",
              "\n",
              "    [theme=dark] .colab-df-convert:hover {\n",
              "      background-color: #434B5C;\n",
              "      box-shadow: 0px 1px 3px 1px rgba(0, 0, 0, 0.15);\n",
              "      filter: drop-shadow(0px 1px 2px rgba(0, 0, 0, 0.3));\n",
              "      fill: #FFFFFF;\n",
              "    }\n",
              "  </style>\n",
              "\n",
              "      <script>\n",
              "        const buttonEl =\n",
              "          document.querySelector('#df-2f6f93cf-2f6b-41d1-b556-8ece4db90878 button.colab-df-convert');\n",
              "        buttonEl.style.display =\n",
              "          google.colab.kernel.accessAllowed ? 'block' : 'none';\n",
              "\n",
              "        async function convertToInteractive(key) {\n",
              "          const element = document.querySelector('#df-2f6f93cf-2f6b-41d1-b556-8ece4db90878');\n",
              "          const dataTable =\n",
              "            await google.colab.kernel.invokeFunction('convertToInteractive',\n",
              "                                                     [key], {});\n",
              "          if (!dataTable) return;\n",
              "\n",
              "          const docLinkHtml = 'Like what you see? Visit the ' +\n",
              "            '<a target=\"_blank\" href=https://colab.research.google.com/notebooks/data_table.ipynb>data table notebook</a>'\n",
              "            + ' to learn more about interactive tables.';\n",
              "          element.innerHTML = '';\n",
              "          dataTable['output_type'] = 'display_data';\n",
              "          await google.colab.output.renderOutput(dataTable, element);\n",
              "          const docLink = document.createElement('div');\n",
              "          docLink.innerHTML = docLinkHtml;\n",
              "          element.appendChild(docLink);\n",
              "        }\n",
              "      </script>\n",
              "    </div>\n",
              "  </div>\n",
              "  "
            ]
          },
          "metadata": {},
          "execution_count": 4
        }
      ]
    },
    {
      "cell_type": "markdown",
      "source": [
        "### Dataset Rows & Columns count"
      ],
      "metadata": {
        "id": "7hBIi_osiCS2"
      }
    },
    {
      "cell_type": "code",
      "source": [
        "# Dataset Rows & Columns count\n",
        "\n",
        "rows, cols = hb_df.shape\n",
        "print(\"Number of rows: \", rows)\n",
        "print(\"Number of columns: \", cols)"
      ],
      "metadata": {
        "id": "Kllu7SJgmLij",
        "colab": {
          "base_uri": "https://localhost:8080/"
        },
        "outputId": "a19c2645-2f48-405c-835b-42e336f3d1ac"
      },
      "execution_count": 5,
      "outputs": [
        {
          "output_type": "stream",
          "name": "stdout",
          "text": [
            "Number of rows:  119390\n",
            "Number of columns:  32\n"
          ]
        }
      ]
    },
    {
      "cell_type": "markdown",
      "source": [
        "### Dataset Information"
      ],
      "metadata": {
        "id": "JlHwYmJAmNHm"
      }
    },
    {
      "cell_type": "code",
      "source": [
        "# Dataset Info\n",
        "\n",
        "hb_df.info()"
      ],
      "metadata": {
        "id": "e9hRXRi6meOf",
        "colab": {
          "base_uri": "https://localhost:8080/"
        },
        "outputId": "95302cae-2537-4c61-a637-384450691c92"
      },
      "execution_count": 6,
      "outputs": [
        {
          "output_type": "stream",
          "name": "stdout",
          "text": [
            "<class 'pandas.core.frame.DataFrame'>\n",
            "RangeIndex: 119390 entries, 0 to 119389\n",
            "Data columns (total 32 columns):\n",
            " #   Column                          Non-Null Count   Dtype  \n",
            "---  ------                          --------------   -----  \n",
            " 0   hotel                           119390 non-null  object \n",
            " 1   is_canceled                     119390 non-null  int64  \n",
            " 2   lead_time                       119390 non-null  int64  \n",
            " 3   arrival_date_year               119390 non-null  int64  \n",
            " 4   arrival_date_month              119390 non-null  object \n",
            " 5   arrival_date_week_number        119390 non-null  int64  \n",
            " 6   arrival_date_day_of_month       119390 non-null  int64  \n",
            " 7   stays_in_weekend_nights         119390 non-null  int64  \n",
            " 8   stays_in_week_nights            119390 non-null  int64  \n",
            " 9   adults                          119390 non-null  int64  \n",
            " 10  children                        119386 non-null  float64\n",
            " 11  babies                          119390 non-null  int64  \n",
            " 12  meal                            119390 non-null  object \n",
            " 13  country                         118902 non-null  object \n",
            " 14  market_segment                  119390 non-null  object \n",
            " 15  distribution_channel            119390 non-null  object \n",
            " 16  is_repeated_guest               119390 non-null  int64  \n",
            " 17  previous_cancellations          119390 non-null  int64  \n",
            " 18  previous_bookings_not_canceled  119390 non-null  int64  \n",
            " 19  reserved_room_type              119390 non-null  object \n",
            " 20  assigned_room_type              119390 non-null  object \n",
            " 21  booking_changes                 119390 non-null  int64  \n",
            " 22  deposit_type                    119390 non-null  object \n",
            " 23  agent                           103050 non-null  float64\n",
            " 24  company                         6797 non-null    float64\n",
            " 25  days_in_waiting_list            119390 non-null  int64  \n",
            " 26  customer_type                   119390 non-null  object \n",
            " 27  adr                             119390 non-null  float64\n",
            " 28  required_car_parking_spaces     119390 non-null  int64  \n",
            " 29  total_of_special_requests       119390 non-null  int64  \n",
            " 30  reservation_status              119390 non-null  object \n",
            " 31  reservation_status_date         119390 non-null  object \n",
            "dtypes: float64(4), int64(16), object(12)\n",
            "memory usage: 29.1+ MB\n"
          ]
        }
      ]
    },
    {
      "cell_type": "markdown",
      "source": [
        "#### Duplicate Values"
      ],
      "metadata": {
        "id": "35m5QtbWiB9F"
      }
    },
    {
      "cell_type": "code",
      "source": [
        "# Dataset Duplicate Value Count\n",
        "\n",
        "duplicate_rows=len(hb_df[hb_df.duplicated()])\n",
        "duplicate_rows"
      ],
      "metadata": {
        "id": "1sLdpKYkmox0",
        "colab": {
          "base_uri": "https://localhost:8080/"
        },
        "outputId": "a230cc05-6ec1-484f-f2b9-eb33b54ea1bc"
      },
      "execution_count": 7,
      "outputs": [
        {
          "output_type": "execute_result",
          "data": {
            "text/plain": [
              "31994"
            ]
          },
          "metadata": {},
          "execution_count": 7
        }
      ]
    },
    {
      "cell_type": "code",
      "source": [
        "#Inorder to remove the duplicate rows from the dataset,I use drop_duplicates\n",
        "hb_df.drop_duplicates(inplace=True)\n",
        "hb_df.shape # 87936 rows and 32 columns"
      ],
      "metadata": {
        "id": "LtRB0Rts52xw",
        "colab": {
          "base_uri": "https://localhost:8080/"
        },
        "outputId": "5daae52c-e271-4dd9-c2ef-29f0fb76bc51"
      },
      "execution_count": 8,
      "outputs": [
        {
          "output_type": "execute_result",
          "data": {
            "text/plain": [
              "(87396, 32)"
            ]
          },
          "metadata": {},
          "execution_count": 8
        }
      ]
    },
    {
      "cell_type": "markdown",
      "source": [
        "#### Missing Values/Null Values"
      ],
      "metadata": {
        "id": "PoPl-ycgm1ru"
      }
    },
    {
      "cell_type": "code",
      "source": [
        "# Missing Values/Null Values Count\n",
        "\n",
        "missing_values=hb_df.isnull().sum().sort_values(ascending=False)\n",
        "\n",
        "hb_df.fillna(np.nan,inplace=True)\n",
        "missing_values"
      ],
      "metadata": {
        "id": "GgHWkxvamxVg",
        "colab": {
          "base_uri": "https://localhost:8080/"
        },
        "outputId": "bfd40cc6-43ad-439a-d15a-b1a17a3d9122"
      },
      "execution_count": 9,
      "outputs": [
        {
          "output_type": "execute_result",
          "data": {
            "text/plain": [
              "company                           82137\n",
              "agent                             12193\n",
              "country                             452\n",
              "children                              4\n",
              "reserved_room_type                    0\n",
              "assigned_room_type                    0\n",
              "booking_changes                       0\n",
              "deposit_type                          0\n",
              "hotel                                 0\n",
              "previous_cancellations                0\n",
              "days_in_waiting_list                  0\n",
              "customer_type                         0\n",
              "adr                                   0\n",
              "required_car_parking_spaces           0\n",
              "total_of_special_requests             0\n",
              "reservation_status                    0\n",
              "previous_bookings_not_canceled        0\n",
              "is_repeated_guest                     0\n",
              "is_canceled                           0\n",
              "distribution_channel                  0\n",
              "market_segment                        0\n",
              "meal                                  0\n",
              "babies                                0\n",
              "adults                                0\n",
              "stays_in_week_nights                  0\n",
              "stays_in_weekend_nights               0\n",
              "arrival_date_day_of_month             0\n",
              "arrival_date_week_number              0\n",
              "arrival_date_month                    0\n",
              "arrival_date_year                     0\n",
              "lead_time                             0\n",
              "reservation_status_date               0\n",
              "dtype: int64"
            ]
          },
          "metadata": {},
          "execution_count": 9
        }
      ]
    },
    {
      "cell_type": "code",
      "source": [
        "# Visualizing the missing values\n",
        "#In seaborn library I use the heatmap() function to create a heatmap of missing values in the DataFrame. The heatmap will show the proportion of missing values in each column and row of the DataFrame.\n",
        "sns.heatmap(hb_df.isnull(), cbar=False)\n"
      ],
      "metadata": {
        "id": "3q5wnI3om9sJ",
        "colab": {
          "base_uri": "https://localhost:8080/",
          "height": 0
        },
        "outputId": "70d0fea8-a907-470f-f5ed-13211648c96f"
      },
      "execution_count": 10,
      "outputs": [
        {
          "output_type": "execute_result",
          "data": {
            "text/plain": [
              "<matplotlib.axes._subplots.AxesSubplot at 0x7fe1680eca90>"
            ]
          },
          "metadata": {},
          "execution_count": 10
        },
        {
          "output_type": "display_data",
          "data": {
            "text/plain": [
              "<Figure size 432x288 with 1 Axes>"
            ],
            "image/png": "[encoded data removed]"
          },
          "metadata": {
            "needs_background": "light"
          }
        }
      ]
    },
    {
      "cell_type": "markdown",
      "source": [
        "### What did you know about your dataset?"
      ],
      "metadata": {
        "id": "H0kj-8xxnORC"
      }
    },
    {
      "cell_type": "markdown",
      "source": [
        "The dataset given is a dataset from Hotel Industry.\n",
        "\n",
        "There are 119390 rows and 32 columns in this dataset.There are 31994 duplicate rows in the dataset.After removing duplicates we have 87936 rows and 32 columns.\n",
        "\n",
        "The columns include information such as the hotel, if the booking was cancelled, the lead time before the arrival date, the arrival date, the number of nights stayed, the number of adults, children, and babies, the meal type, the country of origin, the market segment, the distribution channel, whether the guest is a repeat customer, previous cancellations, previous bookings not cancelled, the type of room reserved and assigned, the number of booking changes, the deposit type, the agent or company that made the booking, the number of days on the waiting list, the customer type, the average daily rate, the number of required car parking spaces, the number of special requests, the reservation status, and the date of the reservation status.\n",
        "\n",
        " The goal of this analysis is to understand and analyze patterns and trends in hotel booking data in order to inform business decisions and improve the overall performance of the hotel. This can include identifying factors that affect bookings, such as seasonality and promotions, as well as understanding the characteristics of hotel guests and their booking behaviors.It can also help to identify opportunities for revenue growth and to monitor competitors in the market. Overall, the goal of hotel booking analysis is to use data to gain insights that can inform strategic decision-making and improve overall performance."
      ],
      "metadata": {
        "id": "gfoNAAC-nUe_"
      }
    },
    {
      "cell_type": "markdown",
      "source": [
        "## ***2. Understanding Your Variables***"
      ],
      "metadata": {
        "id": "nA9Y7ga8ng1Z"
      }
    },
    {
      "cell_type": "markdown",
      "source": [
        "###Knowing the columns"
      ],
      "metadata": {
        "id": "aNww2SMjtdli"
      }
    },
    {
      "cell_type": "code",
      "source": [
        "# Dataset Columns\n",
        "hb_df.columns"
      ],
      "metadata": {
        "id": "j7xfkqrt5Ag5",
        "colab": {
          "base_uri": "https://localhost:8080/"
        },
        "outputId": "060cc918-c283-428d-be5d-f70e1c9a9b83"
      },
      "execution_count": 11,
      "outputs": [
        {
          "output_type": "execute_result",
          "data": {
            "text/plain": [
              "Index(['hotel', 'is_canceled', 'lead_time', 'arrival_date_year',\n",
              "       'arrival_date_month', 'arrival_date_week_number',\n",
              "       'arrival_date_day_of_month', 'stays_in_weekend_nights',\n",
              "       'stays_in_week_nights', 'adults', 'children', 'babies', 'meal',\n",
              "       'country', 'market_segment', 'distribution_channel',\n",
              "       'is_repeated_guest', 'previous_cancellations',\n",
              "       'previous_bookings_not_canceled', 'reserved_room_type',\n",
              "       'assigned_room_type', 'booking_changes', 'deposit_type', 'agent',\n",
              "       'company', 'days_in_waiting_list', 'customer_type', 'adr',\n",
              "       'required_car_parking_spaces', 'total_of_special_requests',\n",
              "       'reservation_status', 'reservation_status_date'],\n",
              "      dtype='object')"
            ]
          },
          "metadata": {},
          "execution_count": 11
        }
      ]
    },
    {
      "cell_type": "markdown",
      "source": [
        "###Descriptive Summary"
      ],
      "metadata": {
        "id": "hY8F-wRUsEGC"
      }
    },
    {
      "cell_type": "code",
      "source": [
        "# Dataset Describe\n",
        "hb_df.describe()\n",
        "#Descriptive summary of all columns \n",
        "hb_df.describe().T # To transpose data"
      ],
      "metadata": {
        "id": "DnOaZdaE5Q5t",
        "colab": {
          "base_uri": "https://localhost:8080/",
          "height": 0
        },
        "outputId": "940917f5-83c6-4083-b110-07adf9a42f15"
      },
      "execution_count": 12,
      "outputs": [
        {
          "output_type": "execute_result",
          "data": {
            "text/plain": [
              "                                  count         mean         std      min  \\\n",
              "is_canceled                     87396.0     0.274898    0.446466     0.00   \n",
              "lead_time                       87396.0    79.891368   86.052325     0.00   \n",
              "arrival_date_year               87396.0  2016.210296    0.686102  2015.00   \n",
              "arrival_date_week_number        87396.0    26.838334   13.674572     1.00   \n",
              "arrival_date_day_of_month       87396.0    15.815541    8.835146     1.00   \n",
              "stays_in_weekend_nights         87396.0     1.005263    1.031921     0.00   \n",
              "stays_in_week_nights            87396.0     2.625395    2.053584     0.00   \n",
              "adults                          87396.0     1.875795    0.626500     0.00   \n",
              "children                        87392.0     0.138640    0.455881     0.00   \n",
              "babies                          87396.0     0.010824    0.113597     0.00   \n",
              "is_repeated_guest               87396.0     0.039075    0.193775     0.00   \n",
              "previous_cancellations          87396.0     0.030413    0.369145     0.00   \n",
              "previous_bookings_not_canceled  87396.0     0.183990    1.731894     0.00   \n",
              "booking_changes                 87396.0     0.271603    0.727245     0.00   \n",
              "agent                           75203.0    94.138306  113.188172     1.00   \n",
              "company                          5259.0   183.081384  130.557608     6.00   \n",
              "days_in_waiting_list            87396.0     0.749565   10.015731     0.00   \n",
              "adr                             87396.0   106.337246   55.013953    -6.38   \n",
              "required_car_parking_spaces     87396.0     0.084226    0.281533     0.00   \n",
              "total_of_special_requests       87396.0     0.698567    0.831946     0.00   \n",
              "\n",
              "                                   25%     50%     75%     max  \n",
              "is_canceled                        0.0     0.0     1.0     1.0  \n",
              "lead_time                         11.0    49.0   125.0   737.0  \n",
              "arrival_date_year               2016.0  2016.0  2017.0  2017.0  \n",
              "arrival_date_week_number          16.0    27.0    37.0    53.0  \n",
              "arrival_date_day_of_month          8.0    16.0    23.0    31.0  \n",
              "stays_in_weekend_nights            0.0     1.0     2.0    19.0  \n",
              "stays_in_week_nights               1.0     2.0     4.0    50.0  \n",
              "adults                             2.0     2.0     2.0    55.0  \n",
              "children                           0.0     0.0     0.0    10.0  \n",
              "babies                             0.0     0.0     0.0    10.0  \n",
              "is_repeated_guest                  0.0     0.0     0.0     1.0  \n",
              "previous_cancellations             0.0     0.0     0.0    26.0  \n",
              "previous_bookings_not_canceled     0.0     0.0     0.0    72.0  \n",
              "booking_changes                    0.0     0.0     0.0    21.0  \n",
              "agent                              9.0    14.0   240.0   535.0  \n",
              "company                           47.0   169.0   263.0   543.0  \n",
              "days_in_waiting_list               0.0     0.0     0.0   391.0  \n",
              "adr                               72.0    98.1   134.0  5400.0  \n",
              "required_car_parking_spaces        0.0     0.0     0.0     8.0  \n",
              "total_of_special_requests          0.0     0.0     1.0     5.0  "
            ],
            "text/html": [
              "\n",
              "  <div id=\"df-99d4109e-996b-4b24-af26-97d2fd2516ba\">\n",
              "    <div class=\"colab-df-container\">\n",
              "      <div>\n",
              "<style scoped>\n",
              "    .dataframe tbody tr th:only-of-type {\n",
              "        vertical-align: middle;\n",
              "    }\n",
              "\n",
              "    .dataframe tbody tr th {\n",
              "        vertical-align: top;\n",
              "    }\n",
              "\n",
              "    .dataframe thead th {\n",
              "        text-align: right;\n",
              "    }\n",
              "</style>\n",
              "<table border=\"1\" class=\"dataframe\">\n",
              "  <thead>\n",
              "    <tr style=\"text-align: right;\">\n",
              "      <th></th>\n",
              "      <th>count</th>\n",
              "      <th>mean</th>\n",
              "      <th>std</th>\n",
              "      <th>min</th>\n",
              "      <th>25%</th>\n",
              "      <th>50%</th>\n",
              "      <th>75%</th>\n",
              "      <th>max</th>\n",
              "    </tr>\n",
              "  </thead>\n",
              "  <tbody>\n",
              "    <tr>\n",
              "      <th>is_canceled</th>\n",
              "      <td>87396.0</td>\n",
              "      <td>0.274898</td>\n",
              "      <td>0.446466</td>\n",
              "      <td>0.00</td>\n",
              "      <td>0.0</td>\n",
              "      <td>0.0</td>\n",
              "      <td>1.0</td>\n",
              "      <td>1.0</td>\n",
              "    </tr>\n",
              "    <tr>\n",
              "      <th>lead_time</th>\n",
              "      <td>87396.0</td>\n",
              "      <td>79.891368</td>\n",
              "      <td>86.052325</td>\n",
              "      <td>0.00</td>\n",
              "      <td>11.0</td>\n",
              "      <td>49.0</td>\n",
              "      <td>125.0</td>\n",
              "      <td>737.0</td>\n",
              "    </tr>\n",
              "    <tr>\n",
              "      <th>arrival_date_year</th>\n",
              "      <td>87396.0</td>\n",
              "      <td>2016.210296</td>\n",
              "      <td>0.686102</td>\n",
              "      <td>2015.00</td>\n",
              "      <td>2016.0</td>\n",
              "      <td>2016.0</td>\n",
              "      <td>2017.0</td>\n",
              "      <td>2017.0</td>\n",
              "    </tr>\n",
              "    <tr>\n",
              "      <th>arrival_date_week_number</th>\n",
              "      <td>87396.0</td>\n",
              "      <td>26.838334</td>\n",
              "      <td>13.674572</td>\n",
              "      <td>1.00</td>\n",
              "      <td>16.0</td>\n",
              "      <td>27.0</td>\n",
              "      <td>37.0</td>\n",
              "      <td>53.0</td>\n",
              "    </tr>\n",
              "    <tr>\n",
              "      <th>arrival_date_day_of_month</th>\n",
              "      <td>87396.0</td>\n",
              "      <td>15.815541</td>\n",
              "      <td>8.835146</td>\n",
              "      <td>1.00</td>\n",
              "      <td>8.0</td>\n",
              "      <td>16.0</td>\n",
              "      <td>23.0</td>\n",
              "      <td>31.0</td>\n",
              "    </tr>\n",
              "    <tr>\n",
              "      <th>stays_in_weekend_nights</th>\n",
              "      <td>87396.0</td>\n",
              "      <td>1.005263</td>\n",
              "      <td>1.031921</td>\n",
              "      <td>0.00</td>\n",
              "      <td>0.0</td>\n",
              "      <td>1.0</td>\n",
              "      <td>2.0</td>\n",
              "      <td>19.0</td>\n",
              "    </tr>\n",
              "    <tr>\n",
              "      <th>stays_in_week_nights</th>\n",
              "      <td>87396.0</td>\n",
              "      <td>2.625395</td>\n",
              "      <td>2.053584</td>\n",
              "      <td>0.00</td>\n",
              "      <td>1.0</td>\n",
              "      <td>2.0</td>\n",
              "      <td>4.0</td>\n",
              "      <td>50.0</td>\n",
              "    </tr>\n",
              "    <tr>\n",
              "      <th>adults</th>\n",
              "      <td>87396.0</td>\n",
              "      <td>1.875795</td>\n",
              "      <td>0.626500</td>\n",
              "      <td>0.00</td>\n",
              "      <td>2.0</td>\n",
              "      <td>2.0</td>\n",
              "      <td>2.0</td>\n",
              "      <td>55.0</td>\n",
              "    </tr>\n",
              "    <tr>\n",
              "      <th>children</th>\n",
              "      <td>87392.0</td>\n",
              "      <td>0.138640</td>\n",
              "      <td>0.455881</td>\n",
              "      <td>0.00</td>\n",
              "      <td>0.0</td>\n",
              "      <td>0.0</td>\n",
              "      <td>0.0</td>\n",
              "      <td>10.0</td>\n",
              "    </tr>\n",
              "    <tr>\n",
              "      <th>babies</th>\n",
              "      <td>87396.0</td>\n",
              "      <td>0.010824</td>\n",
              "      <td>0.113597</td>\n",
              "      <td>0.00</td>\n",
              "      <td>0.0</td>\n",
              "      <td>0.0</td>\n",
              "      <td>0.0</td>\n",
              "      <td>10.0</td>\n",
              "    </tr>\n",
              "    <tr>\n",
              "      <th>is_repeated_guest</th>\n",
              "      <td>87396.0</td>\n",
              "      <td>0.039075</td>\n",
              "      <td>0.193775</td>\n",
              "      <td>0.00</td>\n",
              "      <td>0.0</td>\n",
              "      <td>0.0</td>\n",
              "      <td>0.0</td>\n",
              "      <td>1.0</td>\n",
              "    </tr>\n",
              "    <tr>\n",
              "      <th>previous_cancellations</th>\n",
              "      <td>87396.0</td>\n",
              "      <td>0.030413</td>\n",
              "      <td>0.369145</td>\n",
              "      <td>0.00</td>\n",
              "      <td>0.0</td>\n",
              "      <td>0.0</td>\n",
              "      <td>0.0</td>\n",
              "      <td>26.0</td>\n",
              "    </tr>\n",
              "    <tr>\n",
              "      <th>previous_bookings_not_canceled</th>\n",
              "      <td>87396.0</td>\n",
              "      <td>0.183990</td>\n",
              "      <td>1.731894</td>\n",
              "      <td>0.00</td>\n",
              "      <td>0.0</td>\n",
              "      <td>0.0</td>\n",
              "      <td>0.0</td>\n",
              "      <td>72.0</td>\n",
              "    </tr>\n",
              "    <tr>\n",
              "      <th>booking_changes</th>\n",
              "      <td>87396.0</td>\n",
              "      <td>0.271603</td>\n",
              "      <td>0.727245</td>\n",
              "      <td>0.00</td>\n",
              "      <td>0.0</td>\n",
              "      <td>0.0</td>\n",
              "      <td>0.0</td>\n",
              "      <td>21.0</td>\n",
              "    </tr>\n",
              "    <tr>\n",
              "      <th>agent</th>\n",
              "      <td>75203.0</td>\n",
              "      <td>94.138306</td>\n",
              "      <td>113.188172</td>\n",
              "      <td>1.00</td>\n",
              "      <td>9.0</td>\n",
              "      <td>14.0</td>\n",
              "      <td>240.0</td>\n",
              "      <td>535.0</td>\n",
              "    </tr>\n",
              "    <tr>\n",
              "      <th>company</th>\n",
              "      <td>5259.0</td>\n",
              "      <td>183.081384</td>\n",
              "      <td>130.557608</td>\n",
              "      <td>6.00</td>\n",
              "      <td>47.0</td>\n",
              "      <td>169.0</td>\n",
              "      <td>263.0</td>\n",
              "      <td>543.0</td>\n",
              "    </tr>\n",
              "    <tr>\n",
              "      <th>days_in_waiting_list</th>\n",
              "      <td>87396.0</td>\n",
              "      <td>0.749565</td>\n",
              "      <td>10.015731</td>\n",
              "      <td>0.00</td>\n",
              "      <td>0.0</td>\n",
              "      <td>0.0</td>\n",
              "      <td>0.0</td>\n",
              "      <td>391.0</td>\n",
              "    </tr>\n",
              "    <tr>\n",
              "      <th>adr</th>\n",
              "      <td>87396.0</td>\n",
              "      <td>106.337246</td>\n",
              "      <td>55.013953</td>\n",
              "      <td>-6.38</td>\n",
              "      <td>72.0</td>\n",
              "      <td>98.1</td>\n",
              "      <td>134.0</td>\n",
              "      <td>5400.0</td>\n",
              "    </tr>\n",
              "    <tr>\n",
              "      <th>required_car_parking_spaces</th>\n",
              "      <td>87396.0</td>\n",
              "      <td>0.084226</td>\n",
              "      <td>0.281533</td>\n",
              "      <td>0.00</td>\n",
              "      <td>0.0</td>\n",
              "      <td>0.0</td>\n",
              "      <td>0.0</td>\n",
              "      <td>8.0</td>\n",
              "    </tr>\n",
              "    <tr>\n",
              "      <th>total_of_special_requests</th>\n",
              "      <td>87396.0</td>\n",
              "      <td>0.698567</td>\n",
              "      <td>0.831946</td>\n",
              "      <td>0.00</td>\n",
              "      <td>0.0</td>\n",
              "      <td>0.0</td>\n",
              "      <td>1.0</td>\n",
              "      <td>5.0</td>\n",
              "    </tr>\n",
              "  </tbody>\n",
              "</table>\n",
              "</div>\n",
              "      <button class=\"colab-df-convert\" onclick=\"convertToInteractive('df-99d4109e-996b-4b24-af26-97d2fd2516ba')\"\n",
              "              title=\"Convert this dataframe to an interactive table.\"\n",
              "              style=\"display:none;\">\n",
              "        \n",
              "  <svg xmlns=\"http://www.w3.org/2000/svg\" height=\"24px\"viewBox=\"0 0 24 24\"\n",
              "       width=\"24px\">\n",
              "    <path d=\"M0 0h24v24H0V0z\" fill=\"none\"/>\n",
              "    <path d=\"M18.56 5.44l.94 2.06.94-2.06 2.06-.94-2.06-.94-.94-2.06-.94 2.06-2.06.94zm-11 1L8.5 8.5l.94-2.06 2.06-.94-2.06-.94L8.5 2.5l-.94 2.06-2.06.94zm10 10l.94 2.06.94-2.06 2.06-.94-2.06-.94-.94-2.06-.94 2.06-2.06.94z\"/><path d=\"M17.41 7.96l-1.37-1.37c-.4-.4-.92-.59-1.43-.59-.52 0-1.04.2-1.43.59L10.3 9.45l-7.72 7.72c-.78.78-.78 2.05 0 2.83L4 21.41c.39.39.9.59 1.41.59.51 0 1.02-.2 1.41-.59l7.78-7.78 2.81-2.81c.8-.78.8-2.07 0-2.86zM5.41 20L4 18.59l7.72-7.72 1.47 1.35L5.41 20z\"/>\n",
              "  </svg>\n",
              "      </button>\n",
              "      \n",
              "  <style>\n",
              "    .colab-df-container {\n",
              "      display:flex;\n",
              "      flex-wrap:wrap;\n",
              "      gap: 12px;\n",
              "    }\n",
              "\n",
              "    .colab-df-convert {\n",
              "      background-color: #E8F0FE;\n",
              "      border: none;\n",
              "      border-radius: 50%;\n",
              "      cursor: pointer;\n",
              "      display: none;\n",
              "      fill: #1967D2;\n",
              "      height: 32px;\n",
              "      padding: 0 0 0 0;\n",
              "      width: 32px;\n",
              "    }\n",
              "\n",
              "    .colab-df-convert:hover {\n",
              "      background-color: #E2EBFA;\n",
              "      box-shadow: 0px 1px 2px rgba(60, 64, 67, 0.3), 0px 1px 3px 1px rgba(60, 64, 67, 0.15);\n",
              "      fill: #174EA6;\n",
              "    }\n",
              "\n",
              "    [theme=dark] .colab-df-convert {\n",
              "      background-color: #3B4455;\n",
              "      fill: #D2E3FC;\n",
              "    }\n",
              "\n",
              "    [theme=dark] .colab-df-convert:hover {\n",
              "      background-color: #434B5C;\n",
              "      box-shadow: 0px 1px 3px 1px rgba(0, 0, 0, 0.15);\n",
              "      filter: drop-shadow(0px 1px 2px rgba(0, 0, 0, 0.3));\n",
              "      fill: #FFFFFF;\n",
              "    }\n",
              "  </style>\n",
              "\n",
              "      <script>\n",
              "        const buttonEl =\n",
              "          document.querySelector('#df-99d4109e-996b-4b24-af26-97d2fd2516ba button.colab-df-convert');\n",
              "        buttonEl.style.display =\n",
              "          google.colab.kernel.accessAllowed ? 'block' : 'none';\n",
              "\n",
              "        async function convertToInteractive(key) {\n",
              "          const element = document.querySelector('#df-99d4109e-996b-4b24-af26-97d2fd2516ba');\n",
              "          const dataTable =\n",
              "            await google.colab.kernel.invokeFunction('convertToInteractive',\n",
              "                                                     [key], {});\n",
              "          if (!dataTable) return;\n",
              "\n",
              "          const docLinkHtml = 'Like what you see? Visit the ' +\n",
              "            '<a target=\"_blank\" href=https://colab.research.google.com/notebooks/data_table.ipynb>data table notebook</a>'\n",
              "            + ' to learn more about interactive tables.';\n",
              "          element.innerHTML = '';\n",
              "          dataTable['output_type'] = 'display_data';\n",
              "          await google.colab.output.renderOutput(dataTable, element);\n",
              "          const docLink = document.createElement('div');\n",
              "          docLink.innerHTML = docLinkHtml;\n",
              "          element.appendChild(docLink);\n",
              "        }\n",
              "      </script>\n",
              "    </div>\n",
              "  </div>\n",
              "  "
            ]
          },
          "metadata": {},
          "execution_count": 12
        }
      ]
    },
    {
      "cell_type": "markdown",
      "source": [
        "### Variables Description "
      ],
      "metadata": {
        "id": "PBTbrJXOngz2"
      }
    },
    {
      "cell_type": "markdown",
      "source": [
        "* hotel: indicates the hotel where the booking was made (Resort Hotel or City Hotel)\n",
        "\n",
        "* is_canceled: indicates if the booking was canceled (1) or not (0)\n",
        "\n",
        "* lead_time: number of days that elapsed between the entering date of the booking into the PMS and the arrival date\n",
        "\n",
        "* arrival_date_year: year of the arrival date\n",
        "\n",
        "* arrival_date_month: month of the arrival date\n",
        "\n",
        "* arrival_date_week_number: week number of the arrival date\n",
        "\n",
        "* arrival_date_day_of_month: day of the month of the arrival date\n",
        "\n",
        "* stays_in_weekend_nights: number of weekend nights (Saturday or Sunday) the guest stayed or booked to stay at the hotel\n",
        "\n",
        "* stays_in_week_nights: number of week nights (Monday to Friday) the guest stayed or booked to stay at the hotel\n",
        "\n",
        "* adults: number of adults\n",
        "\n",
        "* children: number of children\n",
        "\n",
        "* babies: number of babies\n",
        "\n",
        "* meal: type of meal booked. Categories are presented in standard hospitality meal packages: Undefined/SC – no meal package; BB – Bed & Breakfast; HB – Half board (breakfast and one other meal – usually dinner); FB – Full board (breakfast, lunch and dinner)\n",
        "\n",
        "* country: country of origin.\n",
        "\n",
        "* market_segment: market segment designation which customer belongs to.\n",
        "\n",
        "* distribution_channel: booking distribution channel.In categories, the term “TA” means Travel Agents and “TO” means Tour Operators\n",
        "\n",
        "* is_repeated_guest: indicates if the booking name was from a repeated guest (1) or not (0)\n",
        "\n",
        "* previous_cancellations: number of previous bookings that were cancelled by the customer prior to the current booking\n",
        "\n",
        "* previous_bookings_not_canceled: number of previous bookings not cancelled by the customer prior to the current booking\n",
        "\n",
        "* reserved_room_type: code of room type reserved.\n",
        "\n",
        "* assigned_room_type: code for the type of room assigned to the booking. \n",
        "\n",
        "* booking_changes: number of changes/amendments made to the booking from the moment the booking was entered on the PMS until the moment of check-in or cancellation\n",
        "\n",
        "* deposit_type: indicates if the customer made a deposit to guarantee the booking. This variable can assume three categories: No Deposit – no deposit was made; Non Refund – a deposit was made in the value of the total stay cost; Refundable – a deposit was made with a value under the total cost of stay.\n",
        "\n",
        "* agent: ID of the travel agency that made the booking\n",
        "\n",
        "* company: ID of the company/entity that made the booking or responsible for paying the booking. ID is presented instead of designation for anonymity reasons\n",
        "\n",
        "* days_in_waiting_list: number of days the booking was in the waiting list before it was confirmed to the customer\n",
        "\n",
        "* customer_type: type of booking -'Transient', 'Contract', 'Transient-Party', 'Group'\n",
        "\n",
        "* ADR: Average daily rate of the booking.\n",
        "\n",
        "* required_car_parking_spaces: the number of required car parking spaces\n",
        "\n",
        "* total_of_special_requests: total number of special request made.\n",
        "\n",
        "* reservation_status: the number of special requests made, the reservation status (e.g. 'Check-Out', 'Canceled', 'No-Show')\n",
        "\n",
        "* reservation_status_date: date of the reservation status."
      ],
      "metadata": {
        "id": "aJV4KIxSnxay"
      }
    },
    {
      "cell_type": "markdown",
      "source": [
        "### Check Unique Values for each variable."
      ],
      "metadata": {
        "id": "u3PMJOP6ngxN"
      }
    },
    {
      "cell_type": "code",
      "source": [
        "# Check Unique Values for each variable.\n",
        "\n",
        "for col in hb_df.columns:\n",
        "    print(\"Unique values in column '{}': {}\".format(col, hb_df[col].unique()))\n",
        "\n",
        "#Similarily in order to find the number of unique value we can use nunique().\n",
        "\n",
        "for col in hb_df.columns:\n",
        "    print(\"Unique values in column '{}': {}\".format(col, hb_df[col].nunique()))\n"
      ],
      "metadata": {
        "id": "zms12Yq5n-jE",
        "colab": {
          "base_uri": "https://localhost:8080/"
        },
        "outputId": "07f81e4d-c102-4e74-f09c-6566235588d4"
      },
      "execution_count": 13,
      "outputs": [
        {
          "output_type": "stream",
          "name": "stdout",
          "text": [
            "Unique values in column 'hotel': ['Resort Hotel' 'City Hotel']\n",
            "Unique values in column 'is_canceled': [0 1]\n",
            "Unique values in column 'lead_time': [342 737   7  13  14   0   9  85  75  23  35  68  18  37  12  72 127  78\n",
            "  48  60  77  99 118  95  96  69  45  40  15  36  43  70  16 107  47 113\n",
            "  90  50  93  76   3   1  10   5  17  51  71  63  62 101   2  81 368 364\n",
            " 324  79  21 109 102   4  98  92  26  73 115  86  52  29  30  33  32   8\n",
            " 100  44  80  97  64  39  34  27  82  94 110 111  84  66 104  28 258 112\n",
            "  65  67  55  88  54 292  83 105 280 394  24 103 366 249  22  91  11 108\n",
            " 106  31  87  41 304 117  59  53  58 116  42 321  38  56  49 317   6  57\n",
            "  19  25 315 123  46  89  61 312 299 130  74 298 119  20 286 136 129 124\n",
            " 327 131 460 140 114 139 122 137 126 120 128 135 150 143 151 132 125 157\n",
            " 147 138 156 164 346 159 160 161 333 381 149 154 297 163 314 155 323 340\n",
            " 356 142 328 144 336 248 302 175 344 382 146 170 166 338 167 310 148 165\n",
            " 172 171 145 121 178 305 173 152 354 347 158 185 349 183 352 177 200 192\n",
            " 361 207 174 330 134 350 334 283 153 197 133 241 193 235 194 261 260 216\n",
            " 169 209 238 215 141 189 187 223 284 214 202 211 168 230 203 188 232 709\n",
            " 219 162 196 190 259 228 176 250 201 186 199 180 206 205 224 222 182 210\n",
            " 275 212 229 218 208 191 181 179 246 255 226 288 253 252 262 236 256 234\n",
            " 254 468 213 237 198 195 239 263 265 274 217 220 307 221 233 257 227 276\n",
            " 225 264 311 277 204 290 266 270 294 319 282 251 322 291 269 240 271 184\n",
            " 231 268 247 273 300 301 267 244 306 293 309 272 242 295 285 243 308 398\n",
            " 303 245 424 279 331 281 339 434 357 325 329 278 332 343 345 360 348 367\n",
            " 353 373 374 406 400 326 379 399 316 341 320 385 355 363 358 296 422 390\n",
            " 335 370 376 375 397 289 542 403 383 384 359 393 337 362 365 435 386 378\n",
            " 313 351 287 471 462 411 450 318 372 371 454 532 445 389 388 407 443 437\n",
            " 451 391 405 412 419 420 426 433 440 429 418 447 461 605 457 475 464 482\n",
            " 626 489 496 503 510 517 524 531 538 545 552 559 566 573 580 587 594 601\n",
            " 608 615 622 629 396 410 395 423 408 409 448 465 387 414 476 479 467 490\n",
            " 493 478 504 507 458 518 521 377 444 380 463]\n",
            "Unique values in column 'arrival_date_year': [2015 2016 2017]\n",
            "Unique values in column 'arrival_date_month': ['July' 'August' 'September' 'October' 'November' 'December' 'January'\n",
            " 'February' 'March' 'April' 'May' 'June']\n",
            "Unique values in column 'arrival_date_week_number': [27 28 29 30 31 32 33 34 35 36 37 38 39 40 41 42 43 44 45 46 47 48 49 50\n",
            " 51 52 53  1  2  3  4  5  6  7  8  9 10 11 12 13 14 15 16 17 18 19 20 21\n",
            " 22 23 24 25 26]\n",
            "Unique values in column 'arrival_date_day_of_month': [ 1  2  3  4  5  6  7  8  9 10 11 12 13 14 15 16 17 18 19 20 21 22 23 24\n",
            " 25 26 27 28 29 30 31]\n",
            "Unique values in column 'stays_in_weekend_nights': [ 0  1  2  4  3  6 13  8  5  7 12  9 16 18 19 10 14]\n",
            "Unique values in column 'stays_in_week_nights': [ 0  1  2  3  4  5 10 11  8  6  7 15  9 12 33 20 14 16 21 13 30 19 24 40\n",
            " 22 42 50 25 17 32 26 18 34 35 41]\n",
            "Unique values in column 'adults': [ 2  1  3  4 40 26 50 27 55  0 20  6  5 10]\n",
            "Unique values in column 'children': [ 0.  1.  2. 10.  3. nan]\n",
            "Unique values in column 'babies': [ 0  1  2 10  9]\n",
            "Unique values in column 'meal': ['BB' 'FB' 'HB' 'SC' 'Undefined']\n",
            "Unique values in column 'country': ['PRT' 'GBR' 'USA' 'ESP' 'IRL' 'FRA' nan 'ROU' 'NOR' 'OMN' 'ARG' 'POL'\n",
            " 'DEU' 'BEL' 'CHE' 'CN' 'GRC' 'ITA' 'NLD' 'DNK' 'RUS' 'SWE' 'AUS' 'EST'\n",
            " 'CZE' 'BRA' 'FIN' 'MOZ' 'BWA' 'LUX' 'SVN' 'ALB' 'IND' 'CHN' 'MEX' 'MAR'\n",
            " 'UKR' 'SMR' 'LVA' 'PRI' 'SRB' 'CHL' 'AUT' 'BLR' 'LTU' 'TUR' 'ZAF' 'AGO'\n",
            " 'ISR' 'CYM' 'ZMB' 'CPV' 'ZWE' 'DZA' 'KOR' 'CRI' 'HUN' 'ARE' 'TUN' 'JAM'\n",
            " 'HRV' 'HKG' 'IRN' 'GEO' 'AND' 'GIB' 'URY' 'JEY' 'CAF' 'CYP' 'COL' 'GGY'\n",
            " 'KWT' 'NGA' 'MDV' 'VEN' 'SVK' 'FJI' 'KAZ' 'PAK' 'IDN' 'LBN' 'PHL' 'SEN'\n",
            " 'SYC' 'AZE' 'BHR' 'NZL' 'THA' 'DOM' 'MKD' 'MYS' 'ARM' 'JPN' 'LKA' 'CUB'\n",
            " 'CMR' 'BIH' 'MUS' 'COM' 'SUR' 'UGA' 'BGR' 'CIV' 'JOR' 'SYR' 'SGP' 'BDI'\n",
            " 'SAU' 'VNM' 'PLW' 'QAT' 'EGY' 'PER' 'MLT' 'MWI' 'ECU' 'MDG' 'ISL' 'UZB'\n",
            " 'NPL' 'BHS' 'MAC' 'TGO' 'TWN' 'DJI' 'STP' 'KNA' 'ETH' 'IRQ' 'HND' 'RWA'\n",
            " 'KHM' 'MCO' 'BGD' 'IMN' 'TJK' 'NIC' 'BEN' 'VGB' 'TZA' 'GAB' 'GHA' 'TMP'\n",
            " 'GLP' 'KEN' 'LIE' 'GNB' 'MNE' 'UMI' 'MYT' 'FRO' 'MMR' 'PAN' 'BFA' 'LBY'\n",
            " 'MLI' 'NAM' 'BOL' 'PRY' 'BRB' 'ABW' 'AIA' 'SLV' 'DMA' 'PYF' 'GUY' 'LCA'\n",
            " 'ATA' 'GTM' 'ASM' 'MRT' 'NCL' 'KIR' 'SDN' 'ATF' 'SLE' 'LAO']\n",
            "Unique values in column 'market_segment': ['Direct' 'Corporate' 'Online TA' 'Offline TA/TO' 'Complementary' 'Groups'\n",
            " 'Undefined' 'Aviation']\n",
            "Unique values in column 'distribution_channel': ['Direct' 'Corporate' 'TA/TO' 'Undefined' 'GDS']\n",
            "Unique values in column 'is_repeated_guest': [0 1]\n",
            "Unique values in column 'previous_cancellations': [ 0  1  2  3 26 25 14  4 24 19  5 21  6 13 11]\n",
            "Unique values in column 'previous_bookings_not_canceled': [ 0  1  2  3  4  5  6  7  8  9 10 11 12 13 14 15 16 17 18 20 21 22 23 24\n",
            " 25 27 28 29 30 19 26 31 32 33 34 35 36 37 38 39 40 41 42 43 44 45 46 47\n",
            " 48 49 50 51 52 53 54 55 56 57 58 59 60 61 62 63 64 65 66 67 68 69 70 71\n",
            " 72]\n",
            "Unique values in column 'reserved_room_type': ['C' 'A' 'D' 'E' 'G' 'F' 'H' 'L' 'P' 'B']\n",
            "Unique values in column 'assigned_room_type': ['C' 'A' 'D' 'E' 'G' 'F' 'I' 'B' 'H' 'P' 'L' 'K']\n",
            "Unique values in column 'booking_changes': [ 3  4  0  1  2  5 17  6  8  7 10 16  9 13 12 20 14 15 11 21 18]\n",
            "Unique values in column 'deposit_type': ['No Deposit' 'Refundable' 'Non Refund']\n",
            "Unique values in column 'agent': [ nan 304. 240. 303.  15. 241.   8. 250. 115.   5. 175. 134. 156. 243.\n",
            " 242.   3. 105.  40. 147. 306. 184.  96.   2. 127.  95. 146.   9. 177.\n",
            "   6. 143. 244. 149. 167. 300. 171. 305.  67. 196. 152. 142. 261. 104.\n",
            "  36.  26.  29. 258. 110.  71. 181.  88. 251. 275.  69. 248. 208. 256.\n",
            " 314. 126. 281. 273. 253. 185. 330. 334. 328. 326. 321. 324. 313.  38.\n",
            " 155.  68. 335. 308. 332.  94. 348. 310. 339. 375.  66. 327. 387. 298.\n",
            "  91. 245. 385. 257. 393. 168. 405. 249. 315.  75. 128. 307.  11. 436.\n",
            "   1. 201. 183. 223. 368. 336. 291. 464. 411. 481.  10. 154. 468. 410.\n",
            " 390. 440. 495. 492. 493. 434.  57. 531. 420. 483. 526. 472. 429.  16.\n",
            " 446.  34.  78. 139. 252. 270.  47. 114. 301. 193. 182. 135. 350. 195.\n",
            " 352. 355. 159. 363. 384. 360. 331. 367.  64. 406. 163. 414. 333. 427.\n",
            " 431. 430. 426. 438. 433. 418. 441. 282. 432.  72. 450. 180. 454. 455.\n",
            "  59. 451. 254. 358. 469. 165. 467. 510. 337. 476. 502. 527. 479. 508.\n",
            " 535. 302. 497. 187.  13.   7.  27.  14.  22.  17.  28.  42.  20.  19.\n",
            "  45.  37.  61.  39.  21.  24.  41.  50.  30.  54.  52.  12.  44.  31.\n",
            "  83.  32.  63.  60.  55.  56.  89.  87. 118.  86.  85. 210. 214. 129.\n",
            " 179. 138. 174. 170. 153.  93. 151. 119.  35. 173.  58.  53. 133.  79.\n",
            " 235. 192. 191. 236. 162. 215. 157. 287. 132. 234.  98.  77. 103. 107.\n",
            " 262. 220. 121. 205. 378.  23. 296. 290. 229.  33. 286. 276. 425. 484.\n",
            " 323. 403. 219. 394. 509. 111. 423.   4.  70.  82.  81.  74.  92.  99.\n",
            "  90. 112. 117. 106. 148. 158. 144. 211. 213. 216. 232. 150. 267. 227.\n",
            " 247. 278. 280. 285. 289. 269. 295. 265. 288. 122. 294. 325. 341. 344.\n",
            " 346. 359. 283. 364. 370. 371.  25. 141. 391. 397. 416. 404. 299. 197.\n",
            "  73. 354. 444. 408. 461. 388. 453. 459. 474. 475. 480. 449.]\n",
            "Unique values in column 'company': [ nan 110. 113. 270. 178. 240. 154. 144. 307. 268.  59. 204. 312. 318.\n",
            "  94. 174. 274. 195. 223. 317. 281. 118.  53. 286.  12.  47. 324. 342.\n",
            " 373. 371. 383.  86.  82. 218.  88.  31. 397. 392. 405. 331. 367.  20.\n",
            "  83. 416.  51. 395. 102.  34.  84. 360. 394. 457. 382. 461. 478. 386.\n",
            " 112. 486. 421.   9. 308. 135. 224. 504. 269. 356. 498. 390. 513. 203.\n",
            " 263. 477. 521. 169. 515. 445. 337. 251. 428. 292. 388. 130. 250. 355.\n",
            " 254. 543. 531. 528.  62. 120.  42.  81. 116. 530. 103.  39.  16.  92.\n",
            "  61. 501. 165. 291. 290.  43. 325. 192. 108. 200. 465. 287. 297. 490.\n",
            " 482. 207. 282. 437. 225. 329. 272.  28.  77. 338.  72. 246. 319. 146.\n",
            " 159. 380. 323. 511. 407. 278.  80. 403. 399.  14. 137. 343. 346. 347.\n",
            " 349. 289. 351. 353.  54.  99. 358. 361. 362. 366. 372. 365. 277. 109.\n",
            " 377. 379.  22. 378. 330. 364. 401. 232. 255. 384. 167. 212. 514. 391.\n",
            " 400. 376. 402. 396. 302. 398.   6. 370. 369. 409. 168. 104. 408. 413.\n",
            " 148.  10. 333. 419. 415. 424. 425. 423. 422. 435. 439. 442. 448. 443.\n",
            " 454. 444.  52. 459. 458. 456. 460. 447. 470. 466. 484. 184. 485.  32.\n",
            " 487. 491. 494. 193. 516. 496. 499.  29.  78. 520. 507. 506. 512. 126.\n",
            "  64. 242. 518. 523. 539. 534. 436. 525. 541.  40. 455. 410.  45.  38.\n",
            "  49.  48.  67.  68.  65.  91.  37.   8. 179. 209. 219. 221. 227. 153.\n",
            " 186. 253. 202. 216. 275. 233. 280. 309. 321.  93. 316.  85. 107. 350.\n",
            " 279. 334. 348. 150.  73. 385. 418. 197. 450. 452. 115.  46.  76.  96.\n",
            " 100. 105. 101. 122.  11. 139. 142. 127. 143. 140. 149. 163. 160. 180.\n",
            " 238. 183. 222. 185. 217. 215. 213. 237. 230. 234.  35. 245. 158. 258.\n",
            " 259. 260. 411. 257. 271.  18. 106. 210. 273.  71. 284. 301. 305. 293.\n",
            " 264. 311. 304. 313. 288. 320. 314. 332. 341. 352. 243. 368. 393. 132.\n",
            " 220. 412. 420. 426. 417. 429. 433. 446. 357. 479. 483. 489. 229. 481.\n",
            " 497. 451. 492.]\n",
            "Unique values in column 'days_in_waiting_list': [  0  50  47  65 122  75 101 150 125  14  60  34 100  22 121  61  39   5\n",
            "   1   8 107  43  52   2  11 142 116  13  44  97  83   4 113  18  20 185\n",
            "  93 109   6  37 105 154  64  99  38  48  33  77  21  80  59  40  58  89\n",
            "  53  49  69  87  91  57 111  79  98  85  63  15   3  41 224  31  56 187\n",
            " 176  71  55  96 236 259 207 215 160 120  30  32  27  62  24 108 147 379\n",
            "  70  35 178 330 223 174 162 391  68 193  10  76  16  28   9 165  17  25\n",
            "  46   7  84 175 183  23 117  12  54  26  73  45  19  42  72  81  92  74\n",
            " 167  36]\n",
            "Unique values in column 'customer_type': ['Transient' 'Contract' 'Transient-Party' 'Group']\n",
            "Unique values in column 'adr': [  0.    75.    98.   ... 266.75 209.25 157.71]\n",
            "Unique values in column 'required_car_parking_spaces': [0 1 2 8 3]\n",
            "Unique values in column 'total_of_special_requests': [0 1 3 2 4 5]\n",
            "Unique values in column 'reservation_status': ['Check-Out' 'Canceled' 'No-Show']\n",
            "Unique values in column 'reservation_status_date': ['2015-07-01' '2015-07-02' '2015-07-03' '2015-05-06' '2015-04-22'\n",
            " '2015-06-23' '2015-07-05' '2015-07-06' '2015-07-07' '2015-07-08'\n",
            " '2015-05-11' '2015-07-15' '2015-07-16' '2015-05-29' '2015-05-19'\n",
            " '2015-06-19' '2015-05-23' '2015-05-18' '2015-07-09' '2015-06-02'\n",
            " '2015-07-13' '2015-07-04' '2015-06-29' '2015-06-16' '2015-06-18'\n",
            " '2015-06-12' '2015-06-09' '2015-05-26' '2015-07-11' '2015-07-12'\n",
            " '2015-07-17' '2015-04-15' '2015-05-13' '2015-07-10' '2015-05-20'\n",
            " '2015-05-12' '2015-07-14' '2015-06-17' '2015-05-01' '2015-03-30'\n",
            " '2015-07-19' '2015-06-03' '2015-06-26' '2015-05-14' '2015-07-20'\n",
            " '2015-05-07' '2015-05-28' '2015-04-13' '2015-03-25' '2015-07-21'\n",
            " '2015-06-27' '2015-07-18' '2015-07-23' '2015-06-08' '2015-06-22'\n",
            " '2015-06-24' '2015-03-05' '2015-06-01' '2015-04-24' '2015-07-22'\n",
            " '2015-05-27' '2015-04-06' '2015-04-11' '2015-07-25' '2015-07-28'\n",
            " '2015-07-29' '2015-06-25' '2015-07-24' '2015-06-05' '2015-06-30'\n",
            " '2015-06-13' '2015-06-11' '2015-07-30' '2015-07-27' '2015-04-29'\n",
            " '2015-06-04' '2015-07-26' '2015-08-01' '2015-08-02' '2015-06-15'\n",
            " '2015-04-23' '2015-07-31' '2015-05-25' '2015-08-03' '2015-04-17'\n",
            " '2015-08-04' '2015-08-06' '2015-05-15' '2015-05-09' '2015-03-17'\n",
            " '2015-05-22' '2015-08-07' '2015-04-04' '2015-08-05' '2015-08-08'\n",
            " '2015-08-10' '2015-05-04' '2015-06-06' '2015-08-09' '2015-08-15'\n",
            " '2015-08-11' '2015-03-28' '2015-08-14' '2015-08-12' '2015-08-16'\n",
            " '2015-05-16' '2015-08-21' '2015-08-13' '2015-08-17' '2015-04-20'\n",
            " '2015-08-18' '2015-08-23' '2015-08-22' '2015-08-19' '2015-08-20'\n",
            " '2015-08-29' '2015-03-31' '2015-05-30' '2015-08-25' '2015-04-14'\n",
            " '2015-08-24' '2015-03-24' '2015-05-21' '2015-08-28' '2015-08-26'\n",
            " '2015-08-27' '2015-08-30' '2015-08-31' '2015-09-06' '2015-09-03'\n",
            " '2015-09-04' '2015-09-02' '2015-09-01' '2015-09-05' '2015-06-20'\n",
            " '2015-09-07' '2015-09-10' '2015-09-11' '2015-09-08' '2015-09-09'\n",
            " '2015-09-13' '2015-09-15' '2015-04-10' '2015-01-02' '2014-11-18'\n",
            " '2015-09-12' '2015-09-17' '2015-09-14' '2015-04-07' '2015-09-19'\n",
            " '2015-09-16' '2015-09-20' '2015-01-18' '2015-10-23' '2015-01-22'\n",
            " '2015-01-01' '2015-09-22' '2015-09-24' '2015-09-18' '2015-09-21'\n",
            " '2015-09-30' '2015-09-25' '2015-09-27' '2015-09-28' '2015-10-12'\n",
            " '2015-09-29' '2015-09-23' '2015-10-01' '2015-09-26' '2015-04-18'\n",
            " '2015-10-02' '2015-10-04' '2015-10-08' '2015-10-03' '2015-10-07'\n",
            " '2015-10-09' '2015-10-11' '2015-10-05' '2015-10-06' '2015-10-10'\n",
            " '2015-10-14' '2015-10-15' '2015-10-18' '2015-10-13' '2015-10-20'\n",
            " '2015-10-19' '2015-10-31' '2015-10-16' '2015-10-21' '2015-10-22'\n",
            " '2015-10-17' '2015-10-24' '2015-10-25' '2015-10-28' '2015-10-27'\n",
            " '2015-10-26' '2015-10-30' '2015-11-05' '2015-10-29' '2015-11-03'\n",
            " '2015-11-07' '2015-11-04' '2015-11-01' '2015-11-02' '2015-11-17'\n",
            " '2015-11-06' '2015-11-10' '2015-11-08' '2015-11-09' '2015-11-15'\n",
            " '2015-11-16' '2015-11-11' '2015-11-12' '2015-11-14' '2015-11-13'\n",
            " '2015-11-18' '2015-11-22' '2015-11-19' '2015-11-21' '2015-11-20'\n",
            " '2015-11-24' '2015-11-25' '2015-11-23' '2015-11-28' '2015-11-26'\n",
            " '2015-11-27' '2015-11-29' '2015-12-04' '2015-12-01' '2015-12-06'\n",
            " '2015-12-08' '2015-12-02' '2015-12-03' '2015-12-31' '2015-12-05'\n",
            " '2015-12-10' '2015-12-17' '2015-11-30' '2015-12-12' '2015-12-07'\n",
            " '2016-01-05' '2015-12-11' '2015-12-13' '2015-12-15' '2015-12-16'\n",
            " '2015-12-19' '2015-12-18' '2015-12-26' '2015-12-27' '2015-12-22'\n",
            " '2015-12-23' '2015-12-24' '2015-12-29' '2015-12-28' '2015-12-20'\n",
            " '2015-12-30' '2016-01-02' '2016-01-01' '2015-12-25' '2016-01-03'\n",
            " '2016-01-04' '2016-01-11' '2016-01-07' '2015-12-21' '2016-01-09'\n",
            " '2016-01-10' '2016-01-08' '2016-01-06' '2016-01-12' '2016-01-13'\n",
            " '2016-01-23' '2016-02-09' '2016-01-15' '2016-01-16' '2016-01-17'\n",
            " '2016-01-19' '2016-01-18' '2016-01-21' '2016-01-24' '2016-01-22'\n",
            " '2016-01-29' '2016-01-27' '2016-01-25' '2016-03-08' '2016-01-26'\n",
            " '2016-01-20' '2016-01-30' '2016-02-01' '2016-02-02' '2016-02-08'\n",
            " '2016-02-07' '2016-01-28' '2016-02-05' '2016-02-03' '2016-02-13'\n",
            " '2016-02-10' '2016-02-04' '2016-02-12' '2016-02-11' '2016-02-16'\n",
            " '2016-02-14' '2016-02-15' '2016-02-20' '2016-02-06' '2016-01-14'\n",
            " '2016-02-17' '2016-02-21' '2016-02-24' '2016-02-25' '2016-02-19'\n",
            " '2016-02-18' '2016-02-26' '2016-02-23' '2016-03-05' '2016-02-22'\n",
            " '2016-02-27' '2016-03-03' '2016-03-24' '2016-03-04' '2016-02-29'\n",
            " '2016-03-01' '2016-03-02' '2016-03-30' '2016-03-07' '2016-03-14'\n",
            " '2016-03-21' '2016-03-09' '2016-03-12' '2016-03-22' '2016-03-10'\n",
            " '2016-03-11' '2016-03-20' '2016-03-15' '2016-03-17' '2016-03-16'\n",
            " '2016-03-19' '2016-03-27' '2016-03-18' '2016-03-26' '2016-03-31'\n",
            " '2016-03-28' '2016-03-29' '2016-04-01' '2016-03-23' '2016-04-02'\n",
            " '2016-03-25' '2016-03-13' '2016-04-04' '2016-04-03' '2016-04-05'\n",
            " '2016-04-08' '2016-04-06' '2016-04-09' '2016-04-12' '2016-04-16'\n",
            " '2016-04-17' '2016-04-27' '2016-04-14' '2016-04-18' '2016-04-21'\n",
            " '2016-04-19' '2016-04-20' '2016-04-10' '2016-04-13' '2016-04-11'\n",
            " '2016-04-07' '2016-04-15' '2016-04-22' '2016-04-23' '2016-04-26'\n",
            " '2016-04-28' '2016-04-24' '2016-04-25' '2016-04-29' '2016-04-30'\n",
            " '2016-05-01' '2016-05-10' '2016-05-02' '2016-05-07' '2016-05-08'\n",
            " '2016-05-12' '2016-05-04' '2016-05-06' '2016-05-03' '2016-05-09'\n",
            " '2016-05-05' '2016-05-13' '2016-05-14' '2016-05-18' '2016-05-19'\n",
            " '2016-05-15' '2016-05-16' '2016-05-11' '2016-05-21' '2016-05-22'\n",
            " '2016-05-20' '2016-05-24' '2016-05-25' '2016-05-26' '2016-05-23'\n",
            " '2016-05-27' '2016-05-17' '2016-05-29' '2016-05-28' '2016-05-30'\n",
            " '2016-05-31' '2016-06-01' '2016-06-03' '2016-06-08' '2016-06-02'\n",
            " '2016-06-05' '2016-06-06' '2016-06-13' '2016-06-07' '2016-06-10'\n",
            " '2016-06-11' '2016-06-16' '2016-06-12' '2016-06-14' '2016-06-17'\n",
            " '2016-06-04' '2016-06-18' '2016-06-21' '2016-06-09' '2016-06-24'\n",
            " '2016-06-20' '2016-06-25' '2016-06-22' '2016-06-26' '2016-06-23'\n",
            " '2016-07-01' '2016-06-15' '2016-06-28' '2016-07-02' '2016-06-19'\n",
            " '2016-06-27' '2016-07-04' '2016-06-30' '2016-07-05' '2016-07-08'\n",
            " '2016-07-09' '2016-07-07' '2016-07-12' '2016-06-29' '2016-07-10'\n",
            " '2016-07-15' '2016-07-03' '2016-07-16' '2016-07-14' '2016-07-18'\n",
            " '2016-07-13' '2016-07-06' '2016-07-20' '2016-07-21' '2016-07-23'\n",
            " '2016-07-19' '2016-07-11' '2016-07-28' '2016-07-17' '2016-07-25'\n",
            " '2016-07-22' '2016-07-29' '2016-08-03' '2016-08-02' '2016-08-04'\n",
            " '2016-08-08' '2016-08-10' '2016-08-01' '2016-08-06' '2016-03-06'\n",
            " '2016-08-05' '2016-07-26' '2016-08-07' '2016-07-30' '2016-07-24'\n",
            " '2016-08-12' '2016-07-27' '2016-08-13' '2016-08-18' '2016-08-16'\n",
            " '2016-08-15' '2016-08-17' '2016-08-11' '2016-07-31' '2016-08-19'\n",
            " '2016-09-01' '2016-08-23' '2016-08-26' '2016-08-20' '2016-08-21'\n",
            " '2016-09-04' '2016-08-22' '2016-08-27' '2016-08-25' '2016-08-09'\n",
            " '2016-09-05' '2016-08-24' '2016-09-10' '2016-08-29' '2016-09-09'\n",
            " '2016-08-30' '2016-09-13' '2016-08-31' '2016-09-14' '2016-09-12'\n",
            " '2016-09-15' '2016-08-14' '2016-09-02' '2016-09-08' '2016-09-19'\n",
            " '2016-09-16' '2016-09-07' '2016-09-21' '2016-09-06' '2016-09-22'\n",
            " '2016-09-17' '2016-09-20' '2016-09-03' '2016-09-26' '2016-09-23'\n",
            " '2016-09-18' '2016-09-29' '2016-10-02' '2016-10-01' '2016-09-27'\n",
            " '2016-09-25' '2016-10-05' '2016-09-11' '2016-09-30' '2016-10-09'\n",
            " '2016-10-03' '2016-10-06' '2016-10-11' '2016-09-24' '2016-10-13'\n",
            " '2016-09-28' '2016-10-08' '2016-10-07' '2016-10-16' '2016-08-28'\n",
            " '2016-10-17' '2016-10-18' '2016-10-10' '2016-10-04' '2016-10-15'\n",
            " '2016-10-19' '2016-10-21' '2016-10-12' '2016-10-24' '2016-10-26'\n",
            " '2016-10-23' '2016-10-20' '2016-10-25' '2016-10-27' '2016-10-28'\n",
            " '2016-10-30' '2016-10-29' '2016-11-01' '2016-11-04' '2016-10-14'\n",
            " '2016-11-07' '2016-11-03' '2016-11-10' '2016-11-14' '2016-11-02'\n",
            " '2016-10-31' '2016-11-11' '2016-11-08' '2016-11-05' '2016-11-25'\n",
            " '2016-11-09' '2016-11-20' '2016-11-21' '2016-10-22' '2016-11-22'\n",
            " '2016-11-16' '2016-11-23' '2016-11-17' '2016-11-06' '2016-11-15'\n",
            " '2016-11-13' '2016-11-12' '2016-11-27' '2016-11-19' '2016-11-30'\n",
            " '2016-11-18' '2016-12-02' '2016-12-04' '2016-11-29' '2016-12-07'\n",
            " '2016-11-28' '2016-12-03' '2016-12-06' '2016-11-24' '2016-12-08'\n",
            " '2016-12-05' '2016-12-10' '2016-12-13' '2016-12-14' '2016-12-16'\n",
            " '2016-12-15' '2016-12-17' '2016-12-19' '2016-12-21' '2016-12-20'\n",
            " '2016-12-22' '2016-12-23' '2016-12-24' '2016-12-01' '2016-12-27'\n",
            " '2016-12-29' '2016-12-30' '2016-12-12' '2017-01-02' '2016-12-11'\n",
            " '2017-01-03' '2017-01-04' '2017-01-01' '2016-12-26' '2017-01-06'\n",
            " '2016-12-28' '2016-12-18' '2017-01-10' '2017-01-11' '2017-01-07'\n",
            " '2017-01-12' '2017-01-16' '2017-01-14' '2017-01-13' '2017-01-05'\n",
            " '2017-01-17' '2017-01-20' '2016-12-09' '2017-01-26' '2016-12-31'\n",
            " '2017-01-23' '2017-01-27' '2017-01-28' '2017-01-19' '2017-01-25'\n",
            " '2017-01-24' '2017-01-29' '2017-01-18' '2016-12-25' '2017-01-15'\n",
            " '2017-01-21' '2017-02-01' '2017-02-02' '2017-01-31' '2017-02-03'\n",
            " '2017-02-04' '2017-02-06' '2017-02-07' '2017-02-08' '2017-01-30'\n",
            " '2017-02-09' '2017-01-09' '2017-02-11' '2017-02-10' '2017-02-12'\n",
            " '2017-02-13' '2017-02-14' '2017-02-16' '2017-02-17' '2017-02-18'\n",
            " '2017-02-19' '2017-02-20' '2017-02-15' '2017-02-21' '2017-02-22'\n",
            " '2017-02-26' '2017-02-23' '2017-02-24' '2017-02-25' '2017-02-28'\n",
            " '2017-03-05' '2017-02-27' '2017-03-03' '2017-03-06' '2017-03-02'\n",
            " '2017-03-08' '2017-03-09' '2017-03-10' '2017-03-07' '2017-03-12'\n",
            " '2017-03-13' '2017-03-14' '2017-03-01' '2017-03-18' '2017-03-17'\n",
            " '2017-03-24' '2017-03-22' '2017-03-26' '2017-03-27' '2017-03-11'\n",
            " '2017-03-28' '2017-03-29' '2017-03-30' '2017-03-31' '2017-03-19'\n",
            " '2017-01-22' '2017-04-02' '2017-03-20' '2017-04-03' '2017-01-08'\n",
            " '2017-03-23' '2017-04-05' '2017-02-05' '2017-04-04' '2017-03-15'\n",
            " '2017-04-07' '2017-03-25' '2017-04-08' '2017-04-06' '2017-03-21'\n",
            " '2017-04-10' '2017-04-01' '2017-04-11' '2017-04-13' '2017-04-15'\n",
            " '2017-04-12' '2017-03-04' '2017-04-19' '2017-04-22' '2017-04-20'\n",
            " '2017-05-02' '2017-04-09' '2017-04-23' '2017-04-24' '2017-04-16'\n",
            " '2017-04-28' '2017-04-18' '2017-04-26' '2017-04-25' '2017-04-17'\n",
            " '2017-04-21' '2017-05-03' '2017-05-04' '2017-03-16' '2017-05-05'\n",
            " '2017-04-29' '2017-04-14' '2017-05-08' '2017-04-27' '2017-05-11'\n",
            " '2017-05-01' '2017-05-10' '2017-05-13' '2017-05-06' '2017-05-14'\n",
            " '2017-05-16' '2017-04-30' '2017-05-15' '2017-05-07' '2017-05-09'\n",
            " '2017-05-17' '2017-05-21' '2017-05-12' '2017-05-22' '2017-05-24'\n",
            " '2017-05-23' '2017-05-25' '2017-05-26' '2017-05-28' '2017-05-27'\n",
            " '2017-05-29' '2017-05-19' '2017-05-31' '2017-05-20' '2017-06-01'\n",
            " '2017-05-30' '2017-06-02' '2016-11-26' '2017-06-04' '2017-06-05'\n",
            " '2017-06-06' '2017-06-07' '2017-05-18' '2017-06-09' '2017-06-10'\n",
            " '2017-06-11' '2017-06-12' '2017-06-14' '2017-06-08' '2017-06-16'\n",
            " '2017-06-13' '2017-06-03' '2017-06-24' '2017-06-20' '2017-06-19'\n",
            " '2017-06-21' '2017-06-26' '2017-06-27' '2017-06-22' '2017-06-28'\n",
            " '2017-06-15' '2017-06-29' '2017-06-30' '2017-06-18' '2017-07-04'\n",
            " '2017-07-08' '2017-07-05' '2017-07-03' '2017-07-07' '2017-07-01'\n",
            " '2017-07-06' '2017-07-11' '2017-07-12' '2017-06-23' '2017-07-13'\n",
            " '2017-07-02' '2017-07-10' '2017-07-14' '2017-07-15' '2017-07-16'\n",
            " '2017-07-18' '2017-07-17' '2017-07-19' '2017-07-20' '2017-07-21'\n",
            " '2017-06-25' '2017-06-17' '2017-07-24' '2017-07-26' '2017-07-09'\n",
            " '2017-07-27' '2017-07-28' '2017-07-31' '2017-07-29' '2017-07-22'\n",
            " '2017-08-02' '2017-08-01' '2017-08-03' '2017-08-04' '2017-07-25'\n",
            " '2017-07-23' '2017-08-09' '2017-08-10' '2017-07-30' '2017-08-07'\n",
            " '2017-08-13' '2017-08-05' '2017-08-14' '2017-08-08' '2017-08-16'\n",
            " '2017-08-17' '2017-08-15' '2017-08-18' '2017-08-20' '2017-08-22'\n",
            " '2017-08-06' '2017-08-25' '2017-08-26' '2017-08-23' '2017-08-11'\n",
            " '2017-08-27' '2017-08-21' '2017-08-29' '2017-08-31' '2017-08-12'\n",
            " '2017-08-19' '2016-01-31' '2017-09-01' '2017-08-28' '2015-04-03'\n",
            " '2015-01-21' '2015-01-28' '2015-01-29' '2015-01-30' '2015-02-02'\n",
            " '2015-02-05' '2015-02-06' '2015-02-09' '2015-02-10' '2015-02-11'\n",
            " '2015-02-12' '2015-02-19' '2015-02-20' '2015-02-23' '2015-02-24'\n",
            " '2015-02-25' '2015-02-26' '2015-02-27' '2015-03-03' '2015-03-04'\n",
            " '2015-03-06' '2015-03-09' '2015-03-11' '2015-03-12' '2015-03-18'\n",
            " '2015-04-02' '2015-06-14' '2015-04-08' '2015-04-16' '2015-04-25'\n",
            " '2015-04-28' '2015-05-08' '2017-09-06' '2016-02-28' '2015-12-09'\n",
            " '2015-12-14' '2017-09-09' '2017-09-02' '2017-08-24' '2017-08-30'\n",
            " '2017-09-03' '2017-09-04' '2017-09-05' '2017-09-07' '2017-09-08'\n",
            " '2017-09-10' '2017-09-12' '2017-09-14' '2015-04-30' '2015-04-21'\n",
            " '2015-04-05' '2015-03-13' '2015-05-05' '2015-03-29' '2015-06-10'\n",
            " '2015-04-27' '2014-10-17' '2015-01-20' '2015-02-17' '2015-03-10'\n",
            " '2015-03-23']\n",
            "Unique values in column 'hotel': 2\n",
            "Unique values in column 'is_canceled': 2\n",
            "Unique values in column 'lead_time': 479\n",
            "Unique values in column 'arrival_date_year': 3\n",
            "Unique values in column 'arrival_date_month': 12\n",
            "Unique values in column 'arrival_date_week_number': 53\n",
            "Unique values in column 'arrival_date_day_of_month': 31\n",
            "Unique values in column 'stays_in_weekend_nights': 17\n",
            "Unique values in column 'stays_in_week_nights': 35\n",
            "Unique values in column 'adults': 14\n",
            "Unique values in column 'children': 5\n",
            "Unique values in column 'babies': 5\n",
            "Unique values in column 'meal': 5\n",
            "Unique values in column 'country': 177\n",
            "Unique values in column 'market_segment': 8\n",
            "Unique values in column 'distribution_channel': 5\n",
            "Unique values in column 'is_repeated_guest': 2\n",
            "Unique values in column 'previous_cancellations': 15\n",
            "Unique values in column 'previous_bookings_not_canceled': 73\n",
            "Unique values in column 'reserved_room_type': 10\n",
            "Unique values in column 'assigned_room_type': 12\n",
            "Unique values in column 'booking_changes': 21\n",
            "Unique values in column 'deposit_type': 3\n",
            "Unique values in column 'agent': 333\n",
            "Unique values in column 'company': 352\n",
            "Unique values in column 'days_in_waiting_list': 128\n",
            "Unique values in column 'customer_type': 4\n",
            "Unique values in column 'adr': 8879\n",
            "Unique values in column 'required_car_parking_spaces': 5\n",
            "Unique values in column 'total_of_special_requests': 6\n",
            "Unique values in column 'reservation_status': 3\n",
            "Unique values in column 'reservation_status_date': 926\n"
          ]
        }
      ]
    },
    {
      "cell_type": "markdown",
      "source": [
        "## 3. ***Data Wrangling***"
      ],
      "metadata": {
        "id": "dauF4eBmngu3"
      }
    },
    {
      "cell_type": "markdown",
      "source": [
        "### Data Wrangling Code"
      ],
      "metadata": {
        "id": "bKJF3rekwFvQ"
      }
    },
    {
      "cell_type": "markdown",
      "source": [
        "####Finding and replacing null values"
      ],
      "metadata": {
        "id": "hiVHA0VPkF3K"
      }
    },
    {
      "cell_type": "code",
      "source": [
        "# Lets fill the columns having null values with the relevant values\n",
        "\n",
        "print(missing_values[0:4])"
      ],
      "metadata": {
        "id": "Pn7zKm034kwJ",
        "colab": {
          "base_uri": "https://localhost:8080/"
        },
        "outputId": "6adbd2c2-0b4a-4a52-e649-fdbe37ffafab"
      },
      "execution_count": 14,
      "outputs": [
        {
          "output_type": "stream",
          "name": "stdout",
          "text": [
            "company     82137\n",
            "agent       12193\n",
            "country       452\n",
            "children        4\n",
            "dtype: int64\n"
          ]
        }
      ]
    },
    {
      "cell_type": "code",
      "source": [
        "#Filling company column with zero as company is a numerical column\n",
        "hb_df['company'].fillna(value=0, inplace=True)\n",
        "\n",
        "#Filling agent column with zero as agent is a numerical column \n",
        "hb_df['agent'].fillna(value=0, inplace=True)\n",
        "\n",
        "#Filling country column with others as country is an object column \n",
        "hb_df['country'].fillna(value='others', inplace=True)\n",
        "\n",
        "#Filling children column with zero as children is a numerical column \n",
        "hb_df['children'].fillna(value=0, inplace=True)"
      ],
      "metadata": {
        "id": "Uo_klCOe8xuU"
      },
      "execution_count": 15,
      "outputs": []
    },
    {
      "cell_type": "code",
      "source": [
        "#Checking whether the above columns have null values\n",
        "hb_df.isnull().sum()"
      ],
      "metadata": {
        "id": "ikmONQe3-mQY",
        "colab": {
          "base_uri": "https://localhost:8080/"
        },
        "outputId": "20ecd91b-ecfd-440f-8ef7-b0f1a48fbfbe"
      },
      "execution_count": 16,
      "outputs": [
        {
          "output_type": "execute_result",
          "data": {
            "text/plain": [
              "hotel                             0\n",
              "is_canceled                       0\n",
              "lead_time                         0\n",
              "arrival_date_year                 0\n",
              "arrival_date_month                0\n",
              "arrival_date_week_number          0\n",
              "arrival_date_day_of_month         0\n",
              "stays_in_weekend_nights           0\n",
              "stays_in_week_nights              0\n",
              "adults                            0\n",
              "children                          0\n",
              "babies                            0\n",
              "meal                              0\n",
              "country                           0\n",
              "market_segment                    0\n",
              "distribution_channel              0\n",
              "is_repeated_guest                 0\n",
              "previous_cancellations            0\n",
              "previous_bookings_not_canceled    0\n",
              "reserved_room_type                0\n",
              "assigned_room_type                0\n",
              "booking_changes                   0\n",
              "deposit_type                      0\n",
              "agent                             0\n",
              "company                           0\n",
              "days_in_waiting_list              0\n",
              "customer_type                     0\n",
              "adr                               0\n",
              "required_car_parking_spaces       0\n",
              "total_of_special_requests         0\n",
              "reservation_status                0\n",
              "reservation_status_date           0\n",
              "dtype: int64"
            ]
          },
          "metadata": {},
          "execution_count": 16
        }
      ]
    },
    {
      "cell_type": "markdown",
      "source": [
        "####Changing the datatype of some required columns"
      ],
      "metadata": {
        "id": "HfXg6Vec--5Y"
      }
    },
    {
      "cell_type": "code",
      "source": [
        "#Changing the datatype of agent and children column as integer datatype\n",
        "\n",
        "hb_df[['children', 'agent']] = hb_df[['children', 'agent']].astype('int64')"
      ],
      "metadata": {
        "id": "2oVrzMor_VGW"
      },
      "execution_count": 17,
      "outputs": []
    },
    {
      "cell_type": "markdown",
      "source": [
        "####Addition of new columns"
      ],
      "metadata": {
        "id": "f_bYLZm9BDoG"
      }
    },
    {
      "cell_type": "code",
      "source": [
        "#Inorder to find the total return from each type of hotel, We will find the total number of stays.\n",
        "#For finding total night spent and adding the column, we can add the columns 'stays_in_week_nights' and 'stays_in_weekend_nights'\n",
        "\n",
        "hb_df['total_night_spent'] = hb_df['stays_in_week_nights'] + hb_df['stays_in_weekend_nights'] #Column1 - total_night_spent"
      ],
      "metadata": {
        "id": "Lu7qK7IgAgST"
      },
      "execution_count": 18,
      "outputs": []
    },
    {
      "cell_type": "code",
      "source": [
        "#Adding the earnings column: We have 'total_night_spent' and 'adr'.So multiplying these two we get the earnings\n",
        "\n",
        "hb_df['earnings'] = hb_df['total_night_spent'] * hb_df['adr'] #Column2 - earnings\n",
        "hb_df['earnings']"
      ],
      "metadata": {
        "id": "4OrkS3t7Biw0",
        "colab": {
          "base_uri": "https://localhost:8080/"
        },
        "outputId": "6044e315-d16d-4b74-e2ec-1e91227ef57e"
      },
      "execution_count": 19,
      "outputs": [
        {
          "output_type": "execute_result",
          "data": {
            "text/plain": [
              "0            0.00\n",
              "1            0.00\n",
              "2           75.00\n",
              "3           75.00\n",
              "4          196.00\n",
              "           ...   \n",
              "119385     672.98\n",
              "119386    1578.01\n",
              "119387    1103.97\n",
              "119388     730.80\n",
              "119389    1360.80\n",
              "Name: earnings, Length: 87396, dtype: float64"
            ]
          },
          "metadata": {},
          "execution_count": 19
        }
      ]
    },
    {
      "cell_type": "code",
      "source": [
        "#Adding the total number of guests column: We have to add 'adults' , 'children' and 'babies'\n",
        "hb_df['total_guest'] = hb_df['adults'] + hb_df['children'] + hb_df['babies']\n",
        "hb_df['total_guest'].sum() # Column3 - total_guest"
      ],
      "metadata": {
        "id": "rSvJ5EVoDJWa",
        "colab": {
          "base_uri": "https://localhost:8080/"
        },
        "outputId": "5b30a78d-32cb-48f0-dfa7-264afa717e3f"
      },
      "execution_count": 20,
      "outputs": [
        {
          "output_type": "execute_result",
          "data": {
            "text/plain": [
              "176999"
            ]
          },
          "metadata": {},
          "execution_count": 20
        }
      ]
    },
    {
      "cell_type": "code",
      "source": [
        "#For finding the earnings per each type of hotel i.e for City Hotel and Resort Hotel\n",
        "\n",
        "revenue_per_hotel = hb_df.groupby('hotel')['earnings'].sum()\n",
        "revenue_per_hotel "
      ],
      "metadata": {
        "id": "EyNGTc1JEgFP",
        "colab": {
          "base_uri": "https://localhost:8080/"
        },
        "outputId": "1f406ae1-75a9-4886-bacc-a3c9b7673ddd"
      },
      "execution_count": 21,
      "outputs": [
        {
          "output_type": "execute_result",
          "data": {
            "text/plain": [
              "hotel\n",
              "City Hotel      18774101.54\n",
              "Resort Hotel    15686837.77\n",
              "Name: earnings, dtype: float64"
            ]
          },
          "metadata": {},
          "execution_count": 21
        }
      ]
    },
    {
      "cell_type": "markdown",
      "source": [
        "### What all manipulations have you done and insights you found?"
      ],
      "metadata": {
        "id": "MSa1f5Uengrz"
      }
    },
    {
      "cell_type": "markdown",
      "source": [
        "Initially there were 119390 rows and 32 columns. Later, it was found that 31994 duplicate rows.So inorder to avoid repetition I removed the duplicates and finally we had 87396 rows and 32 columns.\n",
        "\n",
        "Further Manipulations done are as follows:\n",
        "\n",
        "* First of all inorder to remove the null values with relevant values: Four \n",
        "columns were there with null values namely 'company' , 'agent' , 'country' and 'children'.I replaced these 4 columns with zero, zero, others, zero respectively by checking their datatypes and purpose.\n",
        "\n",
        "* Secondly, Columns 'children' and 'agent' was of datatype float which I changed to integer datatype.\n",
        "\n",
        "* Thirdly, I added mainly three columns which can be further used in the project for data visualization and for providing more detailed information.They are 'total_night_spent', 'total_guest' and 'earnings'.\n",
        "In order to find the 'total_night_spent' ,I took sum of the columns 'stays_in_week_nights' and 'stays_in_weekend_nights'. I find the 'earnings' by multiplying 'total_night_spent' and 'adr'. Lastly Inorder to find the 'total_guest', I added 'adults', 'children' and 'babies'.\n",
        "\n",
        "These are the main manipulations done for making the dataset more meaningful ,better understanding and also to make data vizualization easier.\n",
        "\n",
        "\n",
        "\n"
      ],
      "metadata": {
        "id": "LbyXE7I1olp8"
      }
    },
    {
      "cell_type": "markdown",
      "source": [
        "## ***4. Data Vizualization, Storytelling & Experimenting with charts : Understand the relationships between variables***"
      ],
      "metadata": {
        "id": "GF8Ens_Soomf"
      }
    },
    {
      "cell_type": "markdown",
      "source": [
        "### **I)** *UNIVARIATE ANALYSIS*"
      ],
      "metadata": {
        "id": "SkmrwiY1yI-0"
      }
    },
    {
      "cell_type": "markdown",
      "source": [
        "#### Chart-1- Which hotel contains maximum number of bookings?"
      ],
      "metadata": {
        "id": "0wOQAZs5pc--"
      }
    },
    {
      "cell_type": "code",
      "source": [
        "# Chart - 1 visualization code\n",
        "\n",
        "hotel_group = hb_df.groupby('hotel')\n",
        "df1=pd.DataFrame((hotel_group.size()/hb_df.shape[0])*100).reset_index().rename(columns = {0:'Booking %'})\n",
        "explode = [0.05 if i == 0 or i == 1 else 0 for i in range(len(df1))]\n",
        "plt.figure(figsize = (7,7))\n",
        "plt.pie(df1['Booking %'], labels = df1['hotel'], autopct = '%1.2f%%',startangle=90,labeldistance=1.1,explode = explode)\n",
        "plt.title(\"Booking Percentage by Hotel\",bbox={'facecolor':'0.8', 'pad':3})\n",
        "plt.legend()\n",
        "plt.show()"
      ],
      "metadata": {
        "id": "7v_ESjsspbW7",
        "colab": {
          "base_uri": "https://localhost:8080/",
          "height": 0
        },
        "outputId": "1897df29-4239-4632-ffeb-e35b0ab84825"
      },
      "execution_count": 22,
      "outputs": [
        {
          "output_type": "display_data",
          "data": {
            "text/plain": [
              "<Figure size 504x504 with 1 Axes>"
            ],
            "image/png": "[encoded data removed]"
          },
          "metadata": {}
        }
      ]
    },
    {
      "cell_type": "markdown",
      "source": [
        "##### 1. Why did you pick the specific chart?"
      ],
      "metadata": {
        "id": "rlkVnHSiM-41"
      }
    },
    {
      "cell_type": "markdown",
      "source": [
        "I used pie chart inorder to find the maximum number of bookings per hotel as Pie charts are useful to show the proportion of different categories in a dataset. They are especially useful when you have a small number of categories (2-6) and you want to show the relative sizes of each category in a quick and easy-to-understand format. Pie charts are also used to show how a whole is divided into different parts, making it easier to understand the contribution of each part to the whole. "
      ],
      "metadata": {
        "id": "7o54DFUYM-41"
      }
    },
    {
      "cell_type": "markdown",
      "source": [
        "##### 2. What is/are the insight(s) found from the chart?"
      ],
      "metadata": {
        "id": "5O7i0BlDM-41"
      }
    },
    {
      "cell_type": "markdown",
      "source": [
        "City Hotel has 61.13% of bookings done whereas Resort Hotel has only 38.87% booking.Hence, we can conclude that City Hotels have more booking than Resort Hotel."
      ],
      "metadata": {
        "id": "tDRc-f0jM-41"
      }
    },
    {
      "cell_type": "markdown",
      "source": [
        "##### 3. Will the gained insights help creating a positive business impact? \n",
        "Are there any insights that lead to negative growth? Justify with specific reason."
      ],
      "metadata": {
        "id": "448CDAPjqfQr"
      }
    },
    {
      "cell_type": "markdown",
      "source": [
        "Allocating more resources, such as marketing and sales efforts, to City Hotels in order to increase their bookings even further. In the case of Resort Hotels,it may not be marketed effectively to potential customers.Also, City Hotels have more bookings since they are more accessible and also have better amenities/services that attract more customers.\n",
        "So, Resort Hotel should focus more on marketing, sales efforts, services and amenities that attracts the customers even more."
      ],
      "metadata": {
        "id": "3cspy4FjqxJW"
      }
    },
    {
      "cell_type": "markdown",
      "source": [
        "#### Chart-2- Which hotel has more cancellation?"
      ],
      "metadata": {
        "id": "KSlN3yHqYklG"
      }
    },
    {
      "cell_type": "code",
      "source": [
        "# Chart - 2 visualization code\n",
        "sns.set_style(\"whitegrid\")\n",
        "sns.countplot(x=\"hotel\", data=hb_df, hue=\"is_canceled\", order=[\"City Hotel\",\"Resort Hotel\"]).set(xlabel=None)\n",
        "plt.legend(loc=\"upper right\")"
      ],
      "metadata": {
        "id": "R4YgtaqtYklH",
        "colab": {
          "base_uri": "https://localhost:8080/",
          "height": 0
        },
        "outputId": "631fa4df-bf07-4f25-8622-c44c13d529d5"
      },
      "execution_count": 23,
      "outputs": [
        {
          "output_type": "execute_result",
          "data": {
            "text/plain": [
              "<matplotlib.legend.Legend at 0x7fe167306220>"
            ]
          },
          "metadata": {},
          "execution_count": 23
        },
        {
          "output_type": "display_data",
          "data": {
            "text/plain": [
              "<Figure size 432x288 with 1 Axes>"
            ],
            "image/png": "[encoded data removed]"
          },
          "metadata": {}
        }
      ]
    },
    {
      "cell_type": "markdown",
      "source": [
        "##### 1. Why did you pick the specific chart?"
      ],
      "metadata": {
        "id": "t6dVpIINYklI"
      }
    },
    {
      "cell_type": "markdown",
      "source": [
        "I used bar plot to find the hotel with more cancellation as bar plots can be used to visualize and compare the frequency or count of categories in a categorical variable. Bar plots help to compare the magnitude of the categories and provide a visual representation of the distribution of data. It is particularly useful when comparing different categories and helps to identify patterns, trends and relationships between the variables."
      ],
      "metadata": {
        "id": "5aaW0BYyYklI"
      }
    },
    {
      "cell_type": "markdown",
      "source": [
        "##### 2. What is/are the insight(s) found from the chart?"
      ],
      "metadata": {
        "id": "ijmpgYnKYklI"
      }
    },
    {
      "cell_type": "markdown",
      "source": [
        "We can infer that City Hotel has more cancellation of bookings which is 15000  whereas the Resort Hotel has approx 7500.So, we can see that there is almost double cancellation of bookings in City Hotel compared to Resort Hotel eventhough City Hotel has more bookings."
      ],
      "metadata": {
        "id": "PSx9atu2YklI"
      }
    },
    {
      "cell_type": "markdown",
      "source": [
        "##### 3. Will the gained insights help creating a positive business impact? \n",
        "Are there any insights that lead to negative growth? Justify with specific reason."
      ],
      "metadata": {
        "id": "-JiQyfWJYklI"
      }
    },
    {
      "cell_type": "markdown",
      "source": [
        "On the positive side, the insight could help the City Hotels identify the reasons behind the high cancellation rate and implement strategies to reduce it. This could improve customer satisfaction and increase customer retention, leading to positive growth for the business.\n",
        "\n",
        "However, the high cancellation rate could also have a negative impact on the business as it could lead to a decrease in revenue and reduced occupancy rates. If the cancellations are due to issues with the hotel, such as poor service or unmet expectations, it could also damage the reputation of the hotel and negatively impact future bookings."
      ],
      "metadata": {
        "id": "BcBbebzrYklV"
      }
    },
    {
      "cell_type": "markdown",
      "source": [
        "####Chart-3- What is the proportion of bookings made for each meal type?"
      ],
      "metadata": {
        "id": "JbTAJdyh0Zdf"
      }
    },
    {
      "cell_type": "code",
      "source": [
        "# Chart - 3 visualization code\n",
        "meal_group = hb_df.groupby('meal')\n",
        "df1 = pd.DataFrame((meal_group.size()/hb_df.shape[0])*100).reset_index().rename(columns = {0:'Booking %'})\n",
        "print(df1)\n",
        "explode = [0.05 if i == 0 else 0 for i in range(len(df1))]\n",
        "plt.figure(figsize = (7,7))\n",
        "plt.pie(df1['Booking %'], labels = df1['meal'], autopct = '%1.2f%%', startangle=90, labeldistance=1.1, explode = explode)\n",
        "plt.title(\"Booking Percentage by Meal Type\", bbox={'facecolor':'0.8', 'pad':3})\n",
        "plt.legend()\n",
        "plt.show()"
      ],
      "metadata": {
        "colab": {
          "base_uri": "https://localhost:8080/",
          "height": 0
        },
        "id": "mNS0E3fR0XZM",
        "outputId": "c7699a75-3c81-4958-dc38-8e38a77cbd0f"
      },
      "execution_count": 24,
      "outputs": [
        {
          "output_type": "stream",
          "name": "stdout",
          "text": [
            "        meal  Booking %\n",
            "0         BB  77.781592\n",
            "1         FB   0.411918\n",
            "2         HB  10.395213\n",
            "3         SC  10.848323\n",
            "4  Undefined   0.562955\n"
          ]
        },
        {
          "output_type": "display_data",
          "data": {
            "text/plain": [
              "<Figure size 504x504 with 1 Axes>"
            ],
            "image/png": "[encoded data removed]"
          },
          "metadata": {}
        }
      ]
    },
    {
      "cell_type": "markdown",
      "source": [
        "##### 1. Why did you pick the specific chart?"
      ],
      "metadata": {
        "id": "OH3bXdhhxSPC"
      }
    },
    {
      "cell_type": "markdown",
      "source": [
        "I used pie chart to find the proportion of bookings made for each meal type as Pie charts are useful to show the proportion of different categories in a dataset. They are especially useful when you have a small number of categories (2-6) and you want to show the relative sizes of each category in a quick and easy-to-understand format. Pie charts are also used to show how a whole is divided into different parts, making it easier to understand the contribution of each part to the whole. "
      ],
      "metadata": {
        "id": "TlfSgsdtxSPC"
      }
    },
    {
      "cell_type": "markdown",
      "source": [
        "##### 2. What is/are the insight(s) found from the chart?"
      ],
      "metadata": {
        "id": "ERHE6eG1xbPW"
      }
    },
    {
      "cell_type": "markdown",
      "source": [
        "We can infer that:\n",
        "\n",
        "* BB(Bed and Breakfast) is most preffered by the customers who booked the hotel.\n",
        "* Secondly,About 10.5 to 11% of customers prefer HB(Breakfast and Dinner) and SC (Self Catering).\n",
        "* Finally,only about 0.41% FB(Full Board) is prefferd which is the least among all."
      ],
      "metadata": {
        "id": "-YZzJY7hxbPW"
      }
    },
    {
      "cell_type": "markdown",
      "source": [
        "##### 3. Will the gained insights help creating a positive business impact? \n",
        "Are there any insights that lead to negative growth? Justify with specific reason."
      ],
      "metadata": {
        "id": "_dWcgUiIxbPW"
      }
    },
    {
      "cell_type": "markdown",
      "source": [
        "This information can help the hotel in creating a positive business impact by making informed decisions about the types of meal packages to offer and their pricing. For example, if the demand for BB is high, the hotel can focus on promoting and improving this package.\n",
        "\n",
        "However, the low percentage of FB bookings may not necessarily mean there is low demand for this package.The percentage of HB bookings may not necessarily lead to negative growth."
      ],
      "metadata": {
        "id": "I-w6WZIVxfnE"
      }
    },
    {
      "cell_type": "markdown",
      "source": [
        "####Chart-4- What is the distribution of days elapsed between entering a booking and arrival date(Lead Time)?"
      ],
      "metadata": {
        "id": "nczG_xHx2gv4"
      }
    },
    {
      "cell_type": "code",
      "source": [
        "# Chart - 4 visualization code\n",
        "\n",
        "lead_time = hb_df['lead_time'] # extract the lead_time column\n",
        "sns.set_style(\"whitegrid\")\n",
        "plt.figure(figsize = (10,10))\n",
        "plt.boxplot(lead_time)\n",
        "plt.title(\"Lead Time Distribution\")\n",
        "plt.xlabel(\"Lead Time\")\n",
        "plt.show()"
      ],
      "metadata": {
        "colab": {
          "base_uri": "https://localhost:8080/",
          "height": 0
        },
        "id": "0mLcnU6u15-i",
        "outputId": "4b9cee10-eb4e-4274-dfa9-795c5a10924d"
      },
      "execution_count": 25,
      "outputs": [
        {
          "output_type": "display_data",
          "data": {
            "text/plain": [
              "<Figure size 720x720 with 1 Axes>"
            ],
            "image/png": "[encoded data removed]"
          },
          "metadata": {}
        }
      ]
    },
    {
      "cell_type": "markdown",
      "source": [
        "##### 1. Why did you pick the specific chart?"
      ],
      "metadata": {
        "id": "OzSbgJofz5hN"
      }
    },
    {
      "cell_type": "markdown",
      "source": [
        "I used box plot to find the distribution of days elapsed between entering a booking and arrival date(Lead Time) as box plots are useful to visualize the distribution of a set of continuous or numerical data points. They provide a summary of the distribution of the data, including the minimum value, first quartile, median, third quartile, and maximum value. By visualizing the range, skewness, and presence of outliers in the data, box plots help to identify and understand the underlying patterns and relationships in the data. They are also useful for comparing the distributions of different groups or datasets, making them a valuable tool in the EDA process."
      ],
      "metadata": {
        "id": "oJ1FctEkz5hO"
      }
    },
    {
      "cell_type": "markdown",
      "source": [
        "##### 2. What is/are the insight(s) found from the chart?"
      ],
      "metadata": {
        "id": "9Y0mi-Wez5hO"
      }
    },
    {
      "cell_type": "markdown",
      "source": [
        "We can infer that:\n",
        "\n",
        "* By analyzing q1 ie 1st quartile, 25% of the lead time are below 10.\n",
        "* By analyzing q3 ie 3rd quartile, 25% of the lead time are above 125.\n",
        "* Almost 50% ie Interquartile range of the lead time are between 10 and 125 which is shown inside the box.\n",
        "* Solid line in the plot indicates the median which is close to 50.\n",
        "* Maximum point without outlier is 290 and minimum point is zero(This is usually 1.5 times the interquartile range)\n",
        "* Points after the max T shaped whisker are known as Outliers and the maximum lead time here is 737.\n",
        "\n",
        "\n",
        "\n"
      ],
      "metadata": {
        "id": "1XZ0hol1z5hO"
      }
    },
    {
      "cell_type": "markdown",
      "source": [
        "##### 3. Will the gained insights help creating a positive business impact? \n",
        "Are there any insights that lead to negative growth? Justify with specific reason."
      ],
      "metadata": {
        "id": "P1WD2ef_z5hO"
      }
    },
    {
      "cell_type": "markdown",
      "source": [
        "The insights gained from the box plot of lead time can help create a positive business impact by helping the company understand the typical lead times and make informed decisions about inventory management, staffing, and customer service. For example, if the company knows that the majority of lead times are between 10 and 125, they can ensure that they have enough resources to meet the demand during this time.\n",
        "\n",
        "On the other hand, the presence of outliers can have a negative impact on the business. The outliers represent lead times that are much higher than the typical lead times, which can cause delays in delivering the product or service to customers. This can result in customer dissatisfaction and lost business opportunities."
      ],
      "metadata": {
        "id": "q4szSaedz5hO"
      }
    },
    {
      "cell_type": "markdown",
      "source": [
        "####Chart-5- What are the total number of guests arrived per year in both hotels? "
      ],
      "metadata": {
        "id": "EM7whBJCYoAo"
      }
    },
    {
      "cell_type": "code",
      "source": [
        "# Chart - 5 visualization code\n",
        "\n",
        "sns.set_style(\"whitegrid\")\n",
        "sns.countplot(x=\"arrival_date_year\", data=hb_df, hue=\"hotel\", hue_order=[\"City Hotel\",\"Resort Hotel\"]).set(xlabel=None)\n",
        "plt.legend(loc=\"upper right\")\n"
      ],
      "metadata": {
        "id": "UMiYkQXIsETz",
        "colab": {
          "base_uri": "https://localhost:8080/",
          "height": 0
        },
        "outputId": "1fa278e6-423f-4f7b-be52-87116c2f9750"
      },
      "execution_count": 26,
      "outputs": [
        {
          "output_type": "execute_result",
          "data": {
            "text/plain": [
              "<matplotlib.legend.Legend at 0x7fe1671b7b80>"
            ]
          },
          "metadata": {},
          "execution_count": 26
        },
        {
          "output_type": "display_data",
          "data": {
            "text/plain": [
              "<Figure size 432x288 with 1 Axes>"
            ],
            "image/png": "[encoded data removed]"
          },
          "metadata": {}
        }
      ]
    },
    {
      "cell_type": "markdown",
      "source": [
        "##### 1. Why did you pick the specific chart?"
      ],
      "metadata": {
        "id": "fge-S5ZAYoAp"
      }
    },
    {
      "cell_type": "markdown",
      "source": [
        "I used bar plot to find the number of guests arrived per year in both hotels as bar plots can be used to visualize and compare the frequency or count of categories in a categorical variable. Bar plots help to compare the magnitude of the categories and provide a visual representation of the distribution of data. It is particularly useful when comparing different categories and helps to identify patterns, trends and relationships between the variables."
      ],
      "metadata": {
        "id": "5dBItgRVYoAp"
      }
    },
    {
      "cell_type": "markdown",
      "source": [
        "##### 2. What is/are the insight(s) found from the chart?"
      ],
      "metadata": {
        "id": "85gYPyotYoAp"
      }
    },
    {
      "cell_type": "markdown",
      "source": [
        "We can infer that:\n",
        "* In **2015**: Total number of guests arrived in Resort Hotel is slightly higher than City Hotel which is 6000 approximately.\n",
        "* In **2016** and **2017**: Total number of guests arrived in City Hotel is higher than Resort Hotel with a huge margin. In 2016 ,City Hotel has more than 25000 bookings whereas Resort Hotel has 15000 bookings. In 2017, City Hotel has 20000 bookings whereas Resort Hotel has 11000 bookings."
      ],
      "metadata": {
        "id": "4jstXR6OYoAp"
      }
    },
    {
      "cell_type": "markdown",
      "source": [
        "##### 3. Will the gained insights help creating a positive business impact? \n",
        "Are there any insights that lead to negative growth? Justify with specific reason."
      ],
      "metadata": {
        "id": "RoGjAbkUYoAp"
      }
    },
    {
      "cell_type": "markdown",
      "source": [
        "The insights gained from this analysis can have a positive impact on the business by the hotel can focus more on the marketing and promotion of the more popular hotel and also improve the services provided at the less popular hotel to increase its popularity.Since 2016 receive good bookings when compared to other years,the customers may have a good seasonal impact for their vacations and trips.\n",
        "\n",
        "The insights gained from the above analysis may lead to a negative impact if:\n",
        "\n",
        "* The shift of guests from Resort Hotel to City Hotel is due to any negative factor in the Resort Hotel such as poor quality of service, inadequate amenities, etc. This may result in a decline in reputation and lead to a decrease in bookings for the Resort Hotel.\n",
        "* The increase in bookings for City Hotel may result in overcrowding and strain on the available resources, leading to a decline in the quality of service offered. This may in turn result in a decline in customer satisfaction and a decrease in future bookings."
      ],
      "metadata": {
        "id": "zfJ8IqMcYoAp"
      }
    },
    {
      "cell_type": "markdown",
      "source": [
        "#### Chart-6- What is the proportion of bookings made for each market segment?\n"
      ],
      "metadata": {
        "id": "CwxamBuN6oaN"
      }
    },
    {
      "cell_type": "code",
      "source": [
        "# Chart - 6 visualization code\n",
        "\n",
        "market_group = hb_df.groupby('market_segment')\n",
        "df1 = pd.DataFrame((market_group.size()/hb_df.shape[0])*100).reset_index().rename(columns = {0:'Booking %'})\n",
        "plt.figure(figsize = (10,10))\n",
        "sns.set_style(\"whitegrid\")\n",
        "plt.bar(df1['market_segment'], df1['Booking %'])\n",
        "plt.xlabel('Market Segment')\n",
        "plt.ylabel('Booking Percentage')\n",
        "plt.title(\"Booking Percentage by Market Segment\")\n",
        "plt.show()"
      ],
      "metadata": {
        "colab": {
          "base_uri": "https://localhost:8080/",
          "height": 0
        },
        "id": "zd7w_A2s62ti",
        "outputId": "9ddf764a-de3a-4e19-cb85-d549e3e59688"
      },
      "execution_count": 27,
      "outputs": [
        {
          "output_type": "display_data",
          "data": {
            "text/plain": [
              "<Figure size 720x720 with 1 Axes>"
            ],
            "image/png": "[encoded data removed]"
          },
          "metadata": {}
        }
      ]
    },
    {
      "cell_type": "markdown",
      "source": [
        "##### 1. Why did you pick the specific chart?"
      ],
      "metadata": {
        "id": "GLluSVEv9eki"
      }
    },
    {
      "cell_type": "markdown",
      "source": [
        "I used bar plot to find the proportion of bookings made for each market segment as bar plots can be used to visualize and compare the frequency or count of categories in a categorical variable. Bar plots help to compare the magnitude of the categories and provide a visual representation of the distribution of data. It is particularly useful when comparing different categories and helps to identify patterns, trends and relationships between the variables."
      ],
      "metadata": {
        "id": "m1oulgf49ekj"
      }
    },
    {
      "cell_type": "markdown",
      "source": [
        "##### 2. What is/are the insight(s) found from the chart?"
      ],
      "metadata": {
        "id": "Ur-QE7rj9ekj"
      }
    },
    {
      "cell_type": "markdown",
      "source": [
        "We can infer that:\n",
        "The insight shows that Online Travel Agencies (OTA) are responsible for 59.06% of bookings, whereas Direct bookings contribute to 13.506% of bookings. On the other hand, market segments such as Aviation, Complementary, and Corporate account for a much smaller percentage of bookings."
      ],
      "metadata": {
        "id": "I9yXlY9d9ekj"
      }
    },
    {
      "cell_type": "markdown",
      "source": [
        "##### 3. Will the gained insights help creating a positive business impact? \n",
        "Are there any insights that lead to negative growth? Justify with specific reason."
      ],
      "metadata": {
        "id": "37vbpyT79ekk"
      }
    },
    {
      "cell_type": "markdown",
      "source": [
        "This insight can be used to focus marketing efforts on Online Travel Agencies to increase bookings. The hotel can also consider offering incentives to OTAs to increase their bookings further.\n",
        "\n",
        "However, relying heavily on one market segment (OTA) for bookings can also lead to negative growth if that segment experiences a decline. Diversifying the hotel's customer base by targeting other market segments can help solve this risk and ensure more stable revenue."
      ],
      "metadata": {
        "id": "lOIJ0XDM9ekk"
      }
    },
    {
      "cell_type": "markdown",
      "source": [
        "#### Chart-7- What is the distribution of stays by the deposit type?\n"
      ],
      "metadata": {
        "id": "0QeIVYyDMsP1"
      }
    },
    {
      "cell_type": "code",
      "source": [
        "# Chart - 7 visualization code\n",
        "\n",
        "plt.figure(figsize=(10, 6))\n",
        "sns.set_style(\"whitegrid\")\n",
        "sns.violinplot(x=hb_df[\"deposit_type\"], y=hb_df[\"total_night_spent\"])\n",
        "plt.xlabel(\"Deposit Type\")\n",
        "plt.ylabel(\"Total Stays\")\n",
        "plt.title(\"Distribution of Stays by Deposit Type\")\n",
        "plt.show()"
      ],
      "metadata": {
        "colab": {
          "base_uri": "https://localhost:8080/",
          "height": 0
        },
        "id": "bm4W02MvDsrc",
        "outputId": "12ad0c17-1ad6-4426-ad7f-4d0e4c841fff"
      },
      "execution_count": 28,
      "outputs": [
        {
          "output_type": "display_data",
          "data": {
            "text/plain": [
              "<Figure size 720x432 with 1 Axes>"
            ],
            "image/png": "[encoded data removed]"
          },
          "metadata": {}
        }
      ]
    },
    {
      "cell_type": "markdown",
      "source": [
        "##### 1. Why did you pick the specific chart?"
      ],
      "metadata": {
        "id": "y0pGBn3R9R8J"
      }
    },
    {
      "cell_type": "markdown",
      "source": [
        "I used violin plot to find distribution of stays by the deposit type as a violin plot is used to visualize the distribution of a dataset. It is a combination of a box plot and a kernel density plot, providing a more nuanced view of the data distribution than a box plot alone.\n",
        "\n",
        "In a violin plot, the width of the plot at each data point is proportional to the density of data points at that value, allowing you to see both the distribution of the data as well as any outliers. Additionally, a violin plot can display multiple datasets in a compact format, making it useful for comparing distributions between groups or between variables."
      ],
      "metadata": {
        "id": "yqZwWE6E9R8K"
      }
    },
    {
      "cell_type": "markdown",
      "source": [
        "##### 2. What is/are the insight(s) found from the chart?"
      ],
      "metadata": {
        "id": "teXsVWqj9R8K"
      }
    },
    {
      "cell_type": "markdown",
      "source": [
        "We can infer that:\n",
        "About 70 night stays come from the customers who choose No Deposit option for booking.About 15 night stays come from Refundable Deposit type and approx 25 night stays comes from Non-refund deposit type.\n",
        "Since we use Violin Plot here, we can easily know the density of stays.In No deposit type, Density is more in range of 3 to 5 nights. In Refundable Deposit type and Non-Refund Deposit type, density is more in 5 nights."
      ],
      "metadata": {
        "id": "Haa2SKZ_9R8K"
      }
    },
    {
      "cell_type": "markdown",
      "source": [
        "##### 3. Will the gained insights help creating a positive business impact? \n",
        "Are there any insights that lead to negative growth? Justify with specific reason."
      ],
      "metadata": {
        "id": "dKbcFsv69R8L"
      }
    },
    {
      "cell_type": "markdown",
      "source": [
        "The insights gained from the violin plot may help create a positive business impact that,it shows that the majority of customers prefer the No Deposit option, and that most stays in this category fall between 3 to 5 nights. This information could be used to optimize the hotel's sales and marketing strategies, such as offering special promotions or discounts to customers who book No Deposit stays of 3-5 nights.\n",
        "\n",
        "While No Deposit may be the preferred option, it could also lead to a higher number of cancellations or no-shows, which could negatively impact the business. Similarly, the Refundable Deposit type may have a lower density, but it could result in higher revenue for the hotel due to the deposit fee. "
      ],
      "metadata": {
        "id": "xzRJJXAa9R8L"
      }
    },
    {
      "cell_type": "markdown",
      "source": [
        "#### Chart-8- What is the average night stays by the country?"
      ],
      "metadata": {
        "id": "5nJFU6RqTPwC"
      }
    },
    {
      "cell_type": "code",
      "source": [
        "# Chart - 8 visualization code\n",
        "\n",
        "country_group = hb_df.groupby(\"country\")\n",
        "average_stays = country_group[\"total_night_spent\"].mean()\n",
        "print(average_stays.max())\n",
        "plt.figure(figsize=(40, 10))\n",
        "sns.set_style(\"whitegrid\")\n",
        "plt.plot(average_stays.index, average_stays.values)\n",
        "plt.xlabel(\"Country\")\n",
        "plt.ylabel(\"Average night Stays\")\n",
        "plt.title(\"Average night Stays by Country\")\n",
        "plt.xticks(rotation=90)\n",
        "plt.show()\n"
      ],
      "metadata": {
        "colab": {
          "base_uri": "https://localhost:8080/",
          "height": 0
        },
        "id": "yAklf3YuO92C",
        "outputId": "c08e22d3-b110-4343-dc2a-b9276b49fa17"
      },
      "execution_count": 29,
      "outputs": [
        {
          "output_type": "stream",
          "name": "stdout",
          "text": [
            "10.666666666666666\n"
          ]
        },
        {
          "output_type": "display_data",
          "data": {
            "text/plain": [
              "<Figure size 2880x720 with 1 Axes>"
            ],
            "image/png": "[encoded data removed]"
          },
          "metadata": {}
        }
      ]
    },
    {
      "cell_type": "markdown",
      "source": [
        "##### 1. Why did you pick the specific chart?"
      ],
      "metadata": {
        "id": "PjxsQzcA9Zyj"
      }
    },
    {
      "cell_type": "markdown",
      "source": [
        "I used line plot to find the average night stays by the country as Line plots are used to visualize the trends and patterns in a dataset over time. Line plots help to analyze the changes in the values of a numerical variable with respect to another numerical or categorical variable. It helps to identify the relationship between two variables and detect any anomalies or outliers in the data. Line plots are also useful in visualizing the movement and changes in the mean, median, or other central tendency measures of a dataset over time. They provide a quick and simple way to understand how the data changes and to gain insights into the trends and patterns in the data."
      ],
      "metadata": {
        "id": "Rfw1l-Ig9Zyk"
      }
    },
    {
      "cell_type": "markdown",
      "source": [
        "##### 2. What is/are the insight(s) found from the chart?"
      ],
      "metadata": {
        "id": "lgp9veM_9Zyk"
      }
    },
    {
      "cell_type": "markdown",
      "source": [
        "We can infer from the plot that:\n",
        "\n",
        "* Country FRO has the highest average stays of approx 11 nights.\n",
        "* Countries ASM,BFA,COM,DJI,HND,MDG,MLI has least average stay of 1 night.\n",
        "* SEN and AGO has an average night stay of 9 and 8 respectively."
      ],
      "metadata": {
        "id": "rJB11GK_9Zyl"
      }
    },
    {
      "cell_type": "markdown",
      "source": [
        "##### 3. Will the gained insights help creating a positive business impact? \n",
        "Are there any insights that lead to negative growth? Justify with specific reason."
      ],
      "metadata": {
        "id": "dLMM9QJ29Zyl"
      }
    },
    {
      "cell_type": "markdown",
      "source": [
        "This information can help the hotel management to target their marketing efforts towards the countries with higher average stays.\n",
        "\n",
        "On the other hand, countries with lower average stays can be an indication of less popularity or lower demand. The hotel management may consider finding ways to improve their services in these countries to attract more guests and increase their average stays.\n",
        "\n",
        "It is not possible to determine from this information alone whether there are any insights that lead to negative growth.\n",
        "\n",
        "\n",
        "\n"
      ],
      "metadata": {
        "id": "3uzo7_b19Zyl"
      }
    },
    {
      "cell_type": "markdown",
      "source": [
        "####Chart-9- Which travel agency (Agent) does the maximum bookings?"
      ],
      "metadata": {
        "id": "BZR9WyysphqO"
      }
    },
    {
      "cell_type": "code",
      "source": [
        "# Chart - 9 visualization code\n",
        "\n",
        "df5 = hb_df['agent'].value_counts().reset_index().rename(columns = {'index':'agent','agent':'Bookings'}).sort_values(by = 'Bookings', ascending = False)\n",
        "df5.drop(df5[df5['agent'] == 0].index, inplace = True)    #Dropping the bookings which are not done by the agent        \n",
        "df5 = df5[:5]  \n",
        "print(df5)      #Finding the top five bookings made by the travel agency                                           \n",
        "plt.figure(figsize = (10,5))\n",
        "sns.set_style(\"whitegrid\")\n",
        "sns.barplot(x = 'agent', y = 'Bookings', data = df5, order = df5.sort_values('Bookings', ascending = False).agent)\n",
        "df5.sort_values('Bookings', ascending=False, inplace=True)\n",
        "min_booking_agent = df5.iloc[0]['agent']\n"
      ],
      "metadata": {
        "id": "TdPTWpAVphqO",
        "colab": {
          "base_uri": "https://localhost:8080/",
          "height": 0
        },
        "outputId": "e44c92c4-bfe3-4014-9015-7796ddad94b4"
      },
      "execution_count": 30,
      "outputs": [
        {
          "output_type": "stream",
          "name": "stdout",
          "text": [
            "   agent  Bookings\n",
            "0      9     28759\n",
            "1    240     13028\n",
            "3     14      3349\n",
            "4      7      3300\n",
            "5    250      2779\n"
          ]
        },
        {
          "output_type": "display_data",
          "data": {
            "text/plain": [
              "<Figure size 720x360 with 1 Axes>"
            ],
            "image/png": "[encoded data removed]"
          },
          "metadata": {}
        }
      ]
    },
    {
      "cell_type": "markdown",
      "source": [
        "##### 1. Why did you pick the specific chart?"
      ],
      "metadata": {
        "id": "jj7wYXLtphqO"
      }
    },
    {
      "cell_type": "markdown",
      "source": [
        "I used bar plot  to find which travel agency (Agent-ID) made the maximum number of bookings as bar plots can be used to visualize and compare the frequency or count of categories in a categorical variable. Bar plots help to compare the magnitude of the categories and provide a visual representation of the distribution of data. It is particularly useful when comparing different categories and helps to identify patterns, trends and relationships between the variables."
      ],
      "metadata": {
        "id": "Ob8u6rCTphqO"
      }
    },
    {
      "cell_type": "markdown",
      "source": [
        "##### 2. What is/are the insight(s) found from the chart?"
      ],
      "metadata": {
        "id": "eZrbJ2SmphqO"
      }
    },
    {
      "cell_type": "markdown",
      "source": [
        "We can infer that \n",
        "* Agent 9 has the highest number of bookings, with 28759 bookings.\n",
        "* Agent 240 has the second highest number of bookings, with 13028 bookings.\n",
        "* Agents 14, 7, 250 have relatively lower number of bookings, with 3349, 3300, and 2779 bookings respectively."
      ],
      "metadata": {
        "id": "mZtgC_hjphqO"
      }
    },
    {
      "cell_type": "markdown",
      "source": [
        "##### 3. Will the gained insights help creating a positive business impact? \n",
        "Are there any insights that lead to negative growth? Justify with specific reason."
      ],
      "metadata": {
        "id": "rFu4xreNphqO"
      }
    },
    {
      "cell_type": "markdown",
      "source": [
        "The gained insights can help in creating a positive business impact by identifying the top performing agents who are contributing the most to the bookings. This information can be used to reward and incentivize these agents, and to better allocate resources to support their sales efforts. This could lead to an increase in bookings and revenue for the business.\n",
        "The insights gained from the data do not necessarily lead to negative growth. \n",
        "\n",
        "However, the lower number of bookings for agents 14, 7, and 250 compared to agents 9 and 240 indicate that there may be opportunities for improvement in the performance of these agents."
      ],
      "metadata": {
        "id": "ey_0qi68phqO"
      }
    },
    {
      "cell_type": "markdown",
      "source": [
        "#### Chart-10- What are the earnings of each type of hotel?"
      ],
      "metadata": {
        "id": "G_wG9pt2Ta6X"
      }
    },
    {
      "cell_type": "code",
      "source": [
        "# Chart - 10 visualization code\n",
        "\n",
        "revenue_per_hotel = hb_df.groupby('hotel')['earnings'].sum()\n",
        "\n",
        "sns.set_style('whitegrid')\n",
        "sns.barplot(x=revenue_per_hotel.values, y=revenue_per_hotel.index, orient='h')\n",
        "plt.title('Total Earnings per Hotel')\n",
        "plt.xlabel('Earnings')\n",
        "plt.ylabel('Hotel')\n",
        "\n",
        "plt.show() \n",
        "print(revenue_per_hotel)"
      ],
      "metadata": {
        "colab": {
          "base_uri": "https://localhost:8080/",
          "height": 0
        },
        "outputId": "a9790c4e-f927-4226-d6d2-63b41ae6af07",
        "id": "0jWTGQsMO0v7"
      },
      "execution_count": 31,
      "outputs": [
        {
          "output_type": "display_data",
          "data": {
            "text/plain": [
              "<Figure size 432x288 with 1 Axes>"
            ],
            "image/png": "[encoded data removed]"
          },
          "metadata": {}
        },
        {
          "output_type": "stream",
          "name": "stdout",
          "text": [
            "hotel\n",
            "City Hotel      18774101.54\n",
            "Resort Hotel    15686837.77\n",
            "Name: earnings, dtype: float64\n"
          ]
        }
      ]
    },
    {
      "cell_type": "markdown",
      "source": [
        "##### 1. Why did you pick the specific chart?"
      ],
      "metadata": {
        "id": "HDcVlRNi2LiG"
      }
    },
    {
      "cell_type": "markdown",
      "source": [
        "I used bar plot  to find the earnings of each type of hotel as bar plots can be used to visualize and compare the frequency or count of categories in a categorical variable. Bar plots help to compare the magnitude of the categories and provide a visual representation of the distribution of data. It is particularly useful when comparing different categories and helps to identify patterns, trends and relationships between the variables."
      ],
      "metadata": {
        "id": "_C9CJbBM2LiG"
      }
    },
    {
      "cell_type": "markdown",
      "source": [
        "##### 2. What is/are the insight(s) found from the chart?"
      ],
      "metadata": {
        "id": "BbReY9_72LiG"
      }
    },
    {
      "cell_type": "markdown",
      "source": [
        "We can infer that \n",
        "\n",
        "City Hotel generated more revenue than the Resort Hotel. Specifically, the City Hotel earned Rs 1,87,74,101.54, while the Resort Hotel earned Rs 1,56,86,837.77."
      ],
      "metadata": {
        "id": "7BbnLdTI2LiG"
      }
    },
    {
      "cell_type": "markdown",
      "source": [
        "##### 3. Will the gained insights help creating a positive business impact? \n",
        "Are there any insights that lead to negative growth? Justify with specific reason."
      ],
      "metadata": {
        "id": "K9aTAWjA2LiH"
      }
    },
    {
      "cell_type": "markdown",
      "source": [
        "The gained insights can help in creating a positive business impacts such as:\n",
        "\n",
        "* Marketing Strategy: The business could allocate more resources towards marketing and promoting the City Hotel, especially to the target market of urban travelers.\n",
        "\n",
        "* Revenue Management: They could increase prices during peak demand periods and decrease prices during low-demand periods, in order to optimize occupancy rates and earnings.\n",
        "\n",
        "* Investment Decisions: They could allocate more resources towards the City Hotel for further improvements, expansion, and innovation, while being more conservative with investments in the Resort Hotel."
      ],
      "metadata": {
        "id": "TAfbZ1EP2LiH"
      }
    },
    {
      "cell_type": "markdown",
      "source": [
        "### **II)** *BIVARIATE ANALYSIS*"
      ],
      "metadata": {
        "id": "BC4HeCD1jrr5"
      }
    },
    {
      "cell_type": "markdown",
      "source": [
        "####Chart-11- What is the impact of room type on total stays?"
      ],
      "metadata": {
        "id": "kFdz7UMnFT_s"
      }
    },
    {
      "cell_type": "code",
      "source": [
        "# Chart - 11 visualization code\n",
        "\n",
        "plt.figure(figsize = (8,8))\n",
        "sns.stripplot(x = \"reserved_room_type\", y = \"total_night_spent\", data = hb_df)\n",
        "plt.xlabel(\"Reserved Room Type\")\n",
        "plt.ylabel(\"Days between stays\")\n",
        "plt.title(\"Impact of room type on days between stays\")\n",
        "plt.show()"
      ],
      "metadata": {
        "id": "He4h-iQmkmMJ",
        "colab": {
          "base_uri": "https://localhost:8080/",
          "height": 0
        },
        "outputId": "379dbdba-c478-4402-d8da-2f4df0d3e4f2"
      },
      "execution_count": 32,
      "outputs": [
        {
          "output_type": "display_data",
          "data": {
            "text/plain": [
              "<Figure size 576x576 with 1 Axes>"
            ],
            "image/png": "[encoded data removed]"
          },
          "metadata": {}
        }
      ]
    },
    {
      "cell_type": "markdown",
      "source": [
        "##### 1. Why did you pick the specific chart?"
      ],
      "metadata": {
        "id": "pluIvwFMInOX"
      }
    },
    {
      "cell_type": "markdown",
      "source": [
        "I have used strip plot inorder to find the impact on room type on total stays as strip plots can be used to visualize the distribution of a single numerical variable. This type of plot is particularly useful when you want to quickly visualize the distribution of the data without being overly concerned with precise quantile values or exact distributions.\n",
        "\n",
        "Strip plots allow you to easily spot outliers and skewness in the distribution. It also shows the spread of the data and the density of data points along a given range. Additionally, strip plots are often used in combination with other plots like box plots or violin plots, to gain a more comprehensive understanding of the distribution of the data."
      ],
      "metadata": {
        "id": "EaN0Iz8qInOZ"
      }
    },
    {
      "cell_type": "markdown",
      "source": [
        "##### 2. What is/are the insight(s) found from the chart?"
      ],
      "metadata": {
        "id": "vZi8-L7HInOZ"
      }
    },
    {
      "cell_type": "markdown",
      "source": [
        "We can infer from the plot that:\n",
        "\n",
        "* Room type A has the highest number of stays.\n",
        "* Room types B, C, E, F, H and G have relatively lower number of stays.\n",
        "* Room type D has a moderate number of stays.\n",
        "* Room types L and P have the least number of stays.\n",
        "\n",
        "These insights can be used to optimize the allocation of room types based on their demand and to identify areas for improvement in terms of attracting more customers for the less popular room types."
      ],
      "metadata": {
        "id": "Jz-hIvG1InOa"
      }
    },
    {
      "cell_type": "markdown",
      "source": [
        "##### 3. Will the gained insights help creating a positive business impact? \n",
        "Are there any insights that lead to negative growth? Justify with specific reason."
      ],
      "metadata": {
        "id": "5J8MdZVdInOa"
      }
    },
    {
      "cell_type": "markdown",
      "source": [
        "These insights can have a positive impact on the business by helping the hotel understand the demand for different room types and allocate resources accordingly. For example, the hotel can focus on maintaining and promoting room type A, as it seems to be highly in demand. The hotel can also consider reducing the resources allocated to room types with low demand.\n",
        "\n",
        "On the other hand, if there is an oversupply of certain room types and a low demand for them, it could lead to negative growth as these rooms may remain unoccupied and result in lost revenue for the hotel."
      ],
      "metadata": {
        "id": "u-UmouHiInOa"
      }
    },
    {
      "cell_type": "markdown",
      "source": [
        "#### Chart-12- How does the booking cancellation rate vary based on the type of customer (i.e. transient, contract, group)?"
      ],
      "metadata": {
        "id": "4Of9eVA-YrdM"
      }
    },
    {
      "cell_type": "code",
      "source": [
        "# Chart - 12 visualization code\n",
        "\n",
        "plt.figure(figsize = (8,8))\n",
        "cancelled_df = hb_df[hb_df['is_canceled'] == 1]\n",
        "cancellation_rate = cancelled_df.groupby(\"customer_type\").size() / hb_df.groupby(\"customer_type\").size()\n",
        "cancellation_rate = cancellation_rate.reset_index(name = \"Cancellation Rate\")\n",
        "sns.set_style(\"whitegrid\")\n",
        "sns.barplot(x = \"customer_type\", y = \"Cancellation Rate\", data = cancellation_rate)\n",
        "plt.xlabel(\"Customer Type\")\n",
        "plt.ylabel(\"Cancellation Rate\")\n",
        "plt.title(\"Cancellation Rate by Customer Type\")\n",
        "plt.show()\n",
        "print(cancellation_rate )"
      ],
      "metadata": {
        "id": "irlUoxc8YrdO",
        "colab": {
          "base_uri": "https://localhost:8080/",
          "height": 0
        },
        "outputId": "40f9b744-ef20-4c26-b766-c58e5999e661"
      },
      "execution_count": 33,
      "outputs": [
        {
          "output_type": "display_data",
          "data": {
            "text/plain": [
              "<Figure size 576x576 with 1 Axes>"
            ],
            "image/png": "[encoded data removed]"
          },
          "metadata": {}
        },
        {
          "output_type": "stream",
          "name": "stdout",
          "text": [
            "     customer_type  Cancellation Rate\n",
            "0         Contract           0.163109\n",
            "1            Group           0.099265\n",
            "2        Transient           0.301059\n",
            "3  Transient-Party           0.152383\n"
          ]
        }
      ]
    },
    {
      "cell_type": "markdown",
      "source": [
        "##### 1. Why did you pick the specific chart?"
      ],
      "metadata": {
        "id": "iky9q4vBYrdO"
      }
    },
    {
      "cell_type": "markdown",
      "source": [
        "I have used bar plot inorder to find the cancellation rate of different types of customers as bar plots can be used to visualize and compare the frequency or count of categories in a categorical variable. Bar plots help to compare the magnitude of the categories and provide a visual representation of the distribution of data. It is particularly useful when comparing different categories and helps to identify patterns, trends and relationships between the variables."
      ],
      "metadata": {
        "id": "aJRCwT6DYrdO"
      }
    },
    {
      "cell_type": "markdown",
      "source": [
        "##### 2. What is/are the insight(s) found from the chart?"
      ],
      "metadata": {
        "id": "F6T5p64dYrdO"
      }
    },
    {
      "cell_type": "markdown",
      "source": [
        "We can infer that:\n",
        "\n",
        "* The cancellation rate for the \"Contract\" customer type is 0.163109, which means that out of 100 bookings made by \"Contract\" customers, about 16 of them are cancelled.\n",
        "* The cancellation rate for the \"Group\" customer type is 0.099265, which means that out of 100 bookings made by \"Group\" customers, about 10 of them are cancelled.\n",
        "* The cancellation rate for the \"Transient\" customer type is 0.301059, which means that out of 100 bookings made by \"Transient\" customers, about 30 of them are cancelled.\n",
        "* The cancellation rate for the \"Transient-Party\" customer type is 0.152383, which means that out of 100 bookings made by \"Transient-Party\" customers, about 15 of them are cancelled.\n",
        "\n",
        "Based on these insights, the hotel management can analyze which customer types have a higher cancellation rate and take necessary measures to minimize the cancellations."
      ],
      "metadata": {
        "id": "Xx8WAJvtYrdO"
      }
    },
    {
      "cell_type": "markdown",
      "source": [
        "##### 3. Will the gained insights help creating a positive business impact? \n",
        "Are there any insights that lead to negative growth? Justify with specific reason."
      ],
      "metadata": {
        "id": "y-Ehk30pYrdP"
      }
    },
    {
      "cell_type": "markdown",
      "source": [
        "The insights from the above table can help in creating a positive business impact in the following ways:\n",
        "\n",
        "* The data shows that Group customers have the lowest cancellation rate , indicating that they are more likely to stick to their bookings and not cancel them.\n",
        "\n",
        "* Transient customers have the highest cancellation rate, indicating that they are more likely to cancel their bookings. This information can be used by the hotel to optimize their sales and marketing strategies and target more Contract and Group customers, who are less likely to cancel their bookings.\n",
        "\n",
        "However, there is also a potential negative impact of these insights:\n",
        "\n",
        "* The high cancellation rate among Transient customers may result in lost revenue and decreased occupancy rates for the hotel.\n"
      ],
      "metadata": {
        "id": "jLNxxz7MYrdP"
      }
    },
    {
      "cell_type": "markdown",
      "source": [
        "#### Chart-13- How does the Average Daily Rate affects total night spent?\n",
        "\n",
        "\n",
        "\n"
      ],
      "metadata": {
        "id": "bamQiAODYuh1"
      }
    },
    {
      "cell_type": "code",
      "source": [
        "# Chart - 13 visualization code\n",
        "\n",
        "plt.figure(figsize=(30, 8))\n",
        "sns.set_style(\"whitegrid\")\n",
        "hb_df.drop(hb_df[hb_df['adr'] > 5000].index, inplace = True) # Dropping the outlier which is more than 5000\n",
        "sns.scatterplot(y = 'adr', x = 'total_night_spent', data = hb_df)\n",
        "plt.show()"
      ],
      "metadata": {
        "id": "TIJwrbroYuh3",
        "colab": {
          "base_uri": "https://localhost:8080/",
          "height": 0
        },
        "outputId": "eecaf22a-f8a0-4346-fe92-2149d730d42b"
      },
      "execution_count": 34,
      "outputs": [
        {
          "output_type": "display_data",
          "data": {
            "text/plain": [
              "<Figure size 2160x576 with 1 Axes>"
            ],
            "image/png": "[encoded data removed]"
          },
          "metadata": {}
        }
      ]
    },
    {
      "cell_type": "markdown",
      "source": [
        "##### 1. Why did you pick the specific chart?"
      ],
      "metadata": {
        "id": "QHF8YVU7Yuh3"
      }
    },
    {
      "cell_type": "markdown",
      "source": [
        "I have used scatter plot inorder to find how ADR affects total night spent as scatter plot is a powerful tool to identify correlations and trends between the variables, which can provide insights into the underlying patterns of the data. It can help in understanding the strength and direction of the relationship between two variables, as well as help detect outliers and identify clusters. By using scatter plots, we can quickly visualize the data and get a sense of the distribution of the data points, making it an important tool for data analysis and understanding."
      ],
      "metadata": {
        "id": "dcxuIMRPYuh3"
      }
    },
    {
      "cell_type": "markdown",
      "source": [
        "##### 2. What is/are the insight(s) found from the chart?"
      ],
      "metadata": {
        "id": "GwzvFGzlYuh3"
      }
    },
    {
      "cell_type": "markdown",
      "source": [
        "We can infer that:\n",
        "\n",
        "* Average Daily Rate decreases with increase in total night stayed.\n",
        "\n",
        "The insight found from this scatter plot is that there is a negative correlation between the Average Daily Rate (ADR) and the total number of nights stayed. This means that as the number of nights stayed increases, the ADR decreases. This could suggest that hotels may offer discounts or special promotions for longer stays to encourage guests to stay longer. The insight could also indicate that guests may negotiate lower rates for longer stays with the hotel.\n",
        "\n",
        "\n",
        "\n",
        "\n",
        "\n"
      ],
      "metadata": {
        "id": "uyqkiB8YYuh3"
      }
    },
    {
      "cell_type": "markdown",
      "source": [
        "##### 3. Will the gained insights help creating a positive business impact? \n",
        "Are there any insights that lead to negative growth? Justify with specific reason."
      ],
      "metadata": {
        "id": "qYpmQ266Yuh3"
      }
    },
    {
      "cell_type": "markdown",
      "source": [
        "The gained insights may help create a positive business impact if the hotel decides to offer discounts or promotions to guests who stay for a longer period of time, as they may be more likely to book a room at a lower ADR. This could result in increased bookings and revenue for the hotel.\n",
        "\n",
        "However, it's not necessarily a negative insight that the ADR decreases with the increase in total night stayed. It may depend on the pricing strategy of the hotel, the type of customers they are targeting etc."
      ],
      "metadata": {
        "id": "_WtzZ_hCYuh4"
      }
    },
    {
      "cell_type": "markdown",
      "source": [
        "####Chart-14- How does the required car parking spaces impact the number of nights stayed by the customer? "
      ],
      "metadata": {
        "id": "OH-pJp9IphqM"
      }
    },
    {
      "cell_type": "code",
      "source": [
        "# Chart - 14 visualization code\n",
        "plt.figure(figsize = (7,7))\n",
        "sns.set_style(\"whitegrid\")\n",
        "sns.scatterplot(x='required_car_parking_spaces', y='stays_in_week_nights', data=hb_df)\n",
        "plt.xlabel(\"Required Car Parking Spaces\")\n",
        "plt.ylabel(\"Total night stayed\")\n",
        "plt.title(\"Impact of Required Car Parking Spaces on Nights Stays\")\n",
        "plt.show()"
      ],
      "metadata": {
        "id": "kuRf4wtuphqN",
        "colab": {
          "base_uri": "https://localhost:8080/",
          "height": 0
        },
        "outputId": "b6b60cbd-3877-4300-c177-4e3f5d971b48"
      },
      "execution_count": 35,
      "outputs": [
        {
          "output_type": "display_data",
          "data": {
            "text/plain": [
              "<Figure size 504x504 with 1 Axes>"
            ],
            "image/png": "[encoded data removed]"
          },
          "metadata": {}
        }
      ]
    },
    {
      "cell_type": "markdown",
      "source": [
        "##### 1. Why did you pick the specific chart?"
      ],
      "metadata": {
        "id": "bbFf2-_FphqN"
      }
    },
    {
      "cell_type": "markdown",
      "source": [
        "I choose scatter plot to find the impact of car parking spaces on total night stayed by the customer as scatter plots are used in to study the relationship between two variables. They can show the distribution of data points and help identify any patterns, trends, outliers, and correlations between the two variables. Scatter plots can also help determine if there is a linear or non-linear relationship between the variables. This information can be valuable for understanding the data and building predictive models. Additionally, scatter plots are easy to create and interpret, making them a popular choice for initial data exploration."
      ],
      "metadata": {
        "id": "loh7H2nzphqN"
      }
    },
    {
      "cell_type": "markdown",
      "source": [
        "##### 2. What is/are the insight(s) found from the chart?"
      ],
      "metadata": {
        "id": "_ouA3fa0phqN"
      }
    },
    {
      "cell_type": "markdown",
      "source": [
        "We can infer that:\n",
        "\n",
        "Usually customers prefer stays which have car parking, but here surpirsingly there customers does not prioritise car parking so much.Here,most customers choose 0 parking spaces and only few customers prefered hotels with 8 car parking spaces."
      ],
      "metadata": {
        "id": "VECbqPI7phqN"
      }
    },
    {
      "cell_type": "markdown",
      "source": [
        "##### 3. Will the gained insights help creating a positive business impact? \n",
        "Are there any insights that lead to negative growth? Justify with specific reason."
      ],
      "metadata": {
        "id": "Seke61FWphqN"
      }
    },
    {
      "cell_type": "markdown",
      "source": [
        "It is not necessary that the insight will always lead to positive growth. If a hotel provides more car parking spaces than what customers actually prefer, it may lead to negative growth as the hotel may incur additional costs for maintaining the unused car parking spaces. On the other hand, if the hotel provides fewer car parking spaces than what customers prefer, it may lead to negative growth as the hotel may lose potential customers who prioritize car parking while making a booking."
      ],
      "metadata": {
        "id": "DW4_bGpfphqN"
      }
    },
    {
      "cell_type": "markdown",
      "source": [
        "####Chart-15- How does the meal type impact the number of nights stayed?"
      ],
      "metadata": {
        "id": "PIIx-8_IphqN"
      }
    },
    {
      "cell_type": "code",
      "source": [
        "# Chart - 15 visualization code\n",
        "plt.figure(figsize = (7,7))\n",
        "sns.boxplot(x='meal', y='total_night_spent', data=hb_df)\n",
        "plt.xlabel(\"Meal Type\")\n",
        "plt.ylabel(\"Total night stayed\")\n",
        "plt.title(\"Impact of Meal Type on Nights Stays\")"
      ],
      "metadata": {
        "id": "lqAIGUfyphqO",
        "colab": {
          "base_uri": "https://localhost:8080/",
          "height": 0
        },
        "outputId": "e330a881-be87-4009-a186-ad9f0423e868"
      },
      "execution_count": 36,
      "outputs": [
        {
          "output_type": "execute_result",
          "data": {
            "text/plain": [
              "Text(0.5, 1.0, 'Impact of Meal Type on Nights Stays')"
            ]
          },
          "metadata": {},
          "execution_count": 36
        },
        {
          "output_type": "display_data",
          "data": {
            "text/plain": [
              "<Figure size 504x504 with 1 Axes>"
            ],
            "image/png": "[encoded data removed]"
          },
          "metadata": {}
        }
      ]
    },
    {
      "cell_type": "markdown",
      "source": [
        "##### 1. Why did you pick the specific chart?"
      ],
      "metadata": {
        "id": "t27r6nlMphqO"
      }
    },
    {
      "cell_type": "markdown",
      "source": [
        "I choose box plot to find the impact of meal type on total number of nights stayed as box plot, also known as a box-and-whisker plot, is to visually summarize the distribution of a set of continuous or numerical data. It provides information about the central tendency (median), dispersion (spread), skewness, and outliers of the data."
      ],
      "metadata": {
        "id": "iv6ro40sphqO"
      }
    },
    {
      "cell_type": "markdown",
      "source": [
        "##### 2. What is/are the insight(s) found from the chart?"
      ],
      "metadata": {
        "id": "r2jJGEOYphqO"
      }
    },
    {
      "cell_type": "markdown",
      "source": [
        "We can infer that:\n",
        "\n",
        "* Customers who chose BB(Bed and Breakfast) stayed at a maximum of 15 nights.\n",
        "* Customers who chose FB(Full Board) stayed at a maximum of 55 nights.\n",
        "* Customers who chose HB(Half Board) stayed at a maximum of 70 nights.\n",
        "* Customers who chose SC stayed at a maximum of 58 nights.\n"
      ],
      "metadata": {
        "id": "Po6ZPi4hphqO"
      }
    },
    {
      "cell_type": "markdown",
      "source": [
        "##### 3. Will the gained insights help creating a positive business impact? \n",
        "Are there any insights that lead to negative growth? Justify with specific reason."
      ],
      "metadata": {
        "id": "b0JNsNcRphqO"
      }
    },
    {
      "cell_type": "markdown",
      "source": [
        "The insights gained from the data can have a positive impact on the business. Based on the information, hotels can offer different meal options to customers and target customers who stay longer.\n",
        "\n",
        "For example, hotels can offer FB or HB options to customers who are likely to stay longer. In turn, this can help increase revenue for the hotel.\n",
        "\n",
        "However,The maximum number of nights stayed by customers for each meal plan does not necessarily indicate negative growth. It could simply be a reflection of the customers' preference or budget"
      ],
      "metadata": {
        "id": "xvSq8iUTphqO"
      }
    },
    {
      "cell_type": "markdown",
      "source": [
        "####Chart-16- Which month contains the most and least number of bookings?"
      ],
      "metadata": {
        "id": "YJ55k-q6phqO"
      }
    },
    {
      "cell_type": "code",
      "source": [
        "# Chart - 16 visualization code\n",
        "df6_x=hb_df[\"arrival_date_month\"].value_counts().index\n",
        "df6_y=hb_df[\"arrival_date_month\"].value_counts()\n",
        "months=[\"January\",\"February\",\"March\",\"April\",\"May\",\"June\",\"July\",\"August\",\"September\",\"October\",\"November\",\"December\"]\n",
        "plt.figure(figsize = (12,12))\n",
        "sns.set_style(\"whitegrid\")\n",
        "sns.barplot(x=df6_x, y=df6_y, order=months).set(xlabel=None,ylabel=\"Bookings\")"
      ],
      "metadata": {
        "id": "B2aS4O1ophqO",
        "colab": {
          "base_uri": "https://localhost:8080/",
          "height": 0
        },
        "outputId": "d137702c-0ab5-4ae6-e697-f7d1f3fef827"
      },
      "execution_count": 37,
      "outputs": [
        {
          "output_type": "execute_result",
          "data": {
            "text/plain": [
              "[Text(0, 0.5, 'Bookings'), Text(0.5, 0, '')]"
            ]
          },
          "metadata": {},
          "execution_count": 37
        },
        {
          "output_type": "display_data",
          "data": {
            "text/plain": [
              "<Figure size 864x864 with 1 Axes>"
            ],
            "image/png": "[encoded data removed]"
          },
          "metadata": {}
        }
      ]
    },
    {
      "cell_type": "markdown",
      "source": [
        "##### 1. Why did you pick the specific chart?"
      ],
      "metadata": {
        "id": "gCFgpxoyphqP"
      }
    },
    {
      "cell_type": "markdown",
      "source": [
        "I use bar plot to find the month which have the most customers and least customers booked as bar plots are used to visualize the distribution of categorical variables and compare the values between different categories. It can help us understand the relationship between the categorical variable and the target variable, as well as show the overall frequency distribution of the categorical variable. Bar plots also help to identify trends, patterns and outliers in the data. They are a useful tool for comparing different categories, observing the distribution of the data, and understanding the relationship between different variables."
      ],
      "metadata": {
        "id": "TVxDimi2phqP"
      }
    },
    {
      "cell_type": "markdown",
      "source": [
        "##### 2. What is/are the insight(s) found from the chart?"
      ],
      "metadata": {
        "id": "OVtJsKN_phqQ"
      }
    },
    {
      "cell_type": "markdown",
      "source": [
        "We can infer that:\n",
        "\n",
        "* During August and July, the customer booking was high which is more than 10000\n",
        "* During January, November and December the booking was low which is below 5000"
      ],
      "metadata": {
        "id": "ngGi97qjphqQ"
      }
    },
    {
      "cell_type": "markdown",
      "source": [
        "##### 3. Will the gained insights help creating a positive business impact? \n",
        "Are there any insights that lead to negative growth? Justify with specific reason."
      ],
      "metadata": {
        "id": "lssrdh5qphqQ"
      }
    },
    {
      "cell_type": "markdown",
      "source": [
        "The insights gained from the bar plot can help create a positive business impact by identifying the months with high and low customer booking, allowing the business to allocate resources and make decisions accordingly. For example, the business can focus on increasing customer bookings in low booking months by offering promotions, discounts, or by improving their marketing strategies.\n",
        "\n",
        "However, with only this information, it is not possible to determine if these insights will lead to negative growth."
      ],
      "metadata": {
        "id": "tBpY5ekJphqQ"
      }
    },
    {
      "cell_type": "markdown",
      "source": [
        "####Chart-17- How does the deposit type impact the cancellation rate?"
      ],
      "metadata": {
        "id": "U2RJ9gkRphqQ"
      }
    },
    {
      "cell_type": "code",
      "source": [
        "# Chart - 17 visualization code\n",
        "\n",
        "cancelled_df = hb_df[hb_df['is_canceled'] == 1]\n",
        "cancellation_rate = cancelled_df.groupby(\"deposit_type\").size() / hb_df.groupby(\"deposit_type\").size()\n",
        "cancellation_rate = cancellation_rate.reset_index(name = \"Cancellation Rate\")\n",
        "sns.barplot(x = \"deposit_type\", y = \"Cancellation Rate\", data = cancellation_rate)\n",
        "plt.xlabel(\"Deposit Type\")\n",
        "plt.ylabel(\"Cancellation Rate\")\n",
        "plt.title(\"Cancellation Rate by Deposit Type\")\n",
        "plt.show()"
      ],
      "metadata": {
        "id": "GM7a4YP4phqQ",
        "colab": {
          "base_uri": "https://localhost:8080/",
          "height": 0
        },
        "outputId": "812b433c-86ae-4098-b524-8d77986ecc6e"
      },
      "execution_count": 38,
      "outputs": [
        {
          "output_type": "display_data",
          "data": {
            "text/plain": [
              "<Figure size 432x288 with 1 Axes>"
            ],
            "image/png": "[encoded data removed]"
          },
          "metadata": {}
        }
      ]
    },
    {
      "cell_type": "markdown",
      "source": [
        "##### 1. Why did you pick the specific chart?"
      ],
      "metadata": {
        "id": "1M8mcRywphqQ"
      }
    },
    {
      "cell_type": "markdown",
      "source": [
        "I use bar plot to find the impact of deposit type on cancellation rate as bar plots are used to visualize the distribution of categorical variables and compare the values between different categories. It can help us understand the relationship between the categorical variable and the target variable, as well as show the overall frequency distribution of the categorical variable. Bar plots also help to identify trends, patterns and outliers in the data. They are a useful tool for comparing different categories, observing the distribution of the data, and understanding the relationship between different variables."
      ],
      "metadata": {
        "id": "8agQvks0phqQ"
      }
    },
    {
      "cell_type": "markdown",
      "source": [
        "##### 2. What is/are the insight(s) found from the chart?"
      ],
      "metadata": {
        "id": "tgIPom80phqQ"
      }
    },
    {
      "cell_type": "markdown",
      "source": [
        "We can infer that:\n",
        "\n",
        "* Customers who chosed Non Refund Deposit type has higher cancellation rate.\n",
        "* Customers who chosed No Deposit and Refundable deposit type has equal chance of cancelling the bookings."
      ],
      "metadata": {
        "id": "Qp13pnNzphqQ"
      }
    },
    {
      "cell_type": "markdown",
      "source": [
        "##### 3. Will the gained insights help creating a positive business impact? \n",
        "Are there any insights that lead to negative growth? Justify with specific reason."
      ],
      "metadata": {
        "id": "JMzcOPDDphqR"
      }
    },
    {
      "cell_type": "markdown",
      "source": [
        "The insights can help creating a positive business impact by identifying the cancellation patterns of customers based on the deposit type. The hotel management can use this information to strategize their cancellation policies and make changes that can minimize the cancellation rates.\n",
        "\n",
        "As for negative growth, the higher cancellation rate of customers who choose Non Refund Deposit type could lead to negative impact on the business. This may lead to loss of revenue and reduced customer satisfaction, as well as decreased trust in the hotel's cancellation policy. The hotel management could consider offering more flexible and customer-friendly cancellation policies for Non Refund Deposit type to minimize the cancellation rate and increase customer satisfaction."
      ],
      "metadata": {
        "id": "R4Ka1PC2phqR"
      }
    },
    {
      "cell_type": "markdown",
      "source": [
        "####Chart-18- How does the arrival date month impact the number of stays in weekend nights?\n"
      ],
      "metadata": {
        "id": "x-EpHcCOp1ci"
      }
    },
    {
      "cell_type": "code",
      "source": [
        "# Chart - 18 visualization code\n",
        "hb_df[\"arrival_date_month\"] = pd.Categorical(hb_df[\"arrival_date_month\"],categories=[\"January\", \"February\", \"March\", \"April\", \"May\", \"June\",\n",
        "                                                          \"July\", \"August\", \"September\", \"October\", \"November\", \"December\"],ordered=True)\n",
        "month_group = hb_df.groupby(\"arrival_date_month\").mean()[\"total_night_spent\"]\n",
        "month_group = month_group.reset_index(name = \"Avg Stays\")\n",
        "plt.figure(figsize = (12,7))\n",
        "sns.barplot(x = \"arrival_date_month\", y = \"Avg Stays\", data = month_group)\n",
        "plt.xlabel(\"Arrival Month\")\n",
        "plt.ylabel(\"Avg Stays\")\n",
        "plt.title(\"Avg Stays by Arrival Month\")\n",
        "plt.show()"
      ],
      "metadata": {
        "id": "mAQTIvtqp1cj",
        "colab": {
          "base_uri": "https://localhost:8080/",
          "height": 0
        },
        "outputId": "52f9158c-5e72-4a54-e913-29c27fb9bdb4"
      },
      "execution_count": 39,
      "outputs": [
        {
          "output_type": "display_data",
          "data": {
            "text/plain": [
              "<Figure size 864x504 with 1 Axes>"
            ],
            "image/png": "[encoded data removed]"
          },
          "metadata": {}
        }
      ]
    },
    {
      "cell_type": "markdown",
      "source": [
        "##### 1. Why did you pick the specific chart?"
      ],
      "metadata": {
        "id": "X_VqEhTip1ck"
      }
    },
    {
      "cell_type": "markdown",
      "source": [
        "I use Bar plot to find the impact of arrival month on total night the customer stayed as bar plots are used to visualize the distribution of categorical variables and compare the values between different categories. It can help us understand the relationship between the categorical variable and the target variable, as well as show the overall frequency distribution of the categorical variable. Bar plots also help to identify trends, patterns and outliers in the data. They are a useful tool for comparing different categories, observing the distribution of the data, and understanding the relationship between different variables."
      ],
      "metadata": {
        "id": "-vsMzt_np1ck"
      }
    },
    {
      "cell_type": "markdown",
      "source": [
        "##### 2. What is/are the insight(s) found from the chart?"
      ],
      "metadata": {
        "id": "8zGJKyg5p1ck"
      }
    },
    {
      "cell_type": "markdown",
      "source": [
        "We can infer that:\n",
        "\n",
        "* Customers who arrived at July and August tends to stay longer at nights.\n",
        "* Customers who arrived at June and September tends to stay moderately longer at nights.\n",
        "* Customers who arrived at January and February have the least number of stays at the hotel."
      ],
      "metadata": {
        "id": "ZYdMsrqVp1ck"
      }
    },
    {
      "cell_type": "markdown",
      "source": [
        "##### 3. Will the gained insights help creating a positive business impact? \n",
        "Are there any insights that lead to negative growth? Justify with specific reason."
      ],
      "metadata": {
        "id": "PVzmfK_Ep1ck"
      }
    },
    {
      "cell_type": "markdown",
      "source": [
        "The insights gained from the data can potentially help create a positive business impact by allowing the hotel management to identify the peak months for customer stays and allocate resources accordingly to better meet customer needs and expectations.\n",
        "\n",
        "However, if the hotel has low occupancy during the months with lower stays (such as January and February), it may indicate that there is a need to develop strategies to attract more customers during these months, such as offering promotions or discounts."
      ],
      "metadata": {
        "id": "druuKYZpp1ck"
      }
    },
    {
      "cell_type": "markdown",
      "source": [
        "####Chart-18- \n"
      ],
      "metadata": {
        "id": "n3dbpmDWp1ck"
      }
    },
    {
      "cell_type": "code",
      "source": [
        "# Chart - 18 visualization code\n"
      ],
      "metadata": {
        "id": "bwevp1tKp1ck"
      },
      "execution_count": 40,
      "outputs": []
    },
    {
      "cell_type": "markdown",
      "source": [
        "##### 1. Why did you pick the specific chart?"
      ],
      "metadata": {
        "id": "ylSl6qgtp1ck"
      }
    },
    {
      "cell_type": "markdown",
      "source": [],
      "metadata": {
        "id": "m2xqNkiQp1ck"
      }
    },
    {
      "cell_type": "markdown",
      "source": [
        "##### 2. What is/are the insight(s) found from the chart?"
      ],
      "metadata": {
        "id": "ZWILFDl5p1ck"
      }
    },
    {
      "cell_type": "markdown",
      "source": [],
      "metadata": {
        "id": "x-lUsV2mp1ck"
      }
    },
    {
      "cell_type": "markdown",
      "source": [
        "##### 3. Will the gained insights help creating a positive business impact? \n",
        "Are there any insights that lead to negative growth? Justify with specific reason."
      ],
      "metadata": {
        "id": "M7G43BXep1ck"
      }
    },
    {
      "cell_type": "markdown",
      "source": [],
      "metadata": {
        "id": "5wwDJXsLp1cl"
      }
    },
    {
      "cell_type": "markdown",
      "source": [
        "#### Chart-19- \n"
      ],
      "metadata": {
        "id": "Ag9LCva-p1cl"
      }
    },
    {
      "cell_type": "code",
      "source": [
        "# Chart - 19 visualization code\n",
        "\n"
      ],
      "metadata": {
        "id": "EUfxeq9-p1cl"
      },
      "execution_count": 41,
      "outputs": []
    },
    {
      "cell_type": "markdown",
      "source": [
        "##### 1. Why did you pick the specific chart?"
      ],
      "metadata": {
        "id": "E6MkPsBcp1cl"
      }
    },
    {
      "cell_type": "markdown",
      "source": [],
      "metadata": {
        "id": "V22bRsFWp1cl"
      }
    },
    {
      "cell_type": "markdown",
      "source": [
        "##### 2. What is/are the insight(s) found from the chart?"
      ],
      "metadata": {
        "id": "2cELzS2fp1cl"
      }
    },
    {
      "cell_type": "markdown",
      "source": [
        "We can infer that:\n",
        "\n",
        "* Eventhough City Hotel has more bookings than Resort Hotel,the cancellations are high in City Hotel than Resort Hotel.\n",
        "\n",
        "* Number of customers who does the booking and made a no show is more in City Hotel than Resort Hotel."
      ],
      "metadata": {
        "id": "ozQPc2_Ip1cl"
      }
    },
    {
      "cell_type": "markdown",
      "source": [
        "##### 3. Will the gained insights help creating a positive business impact? \n",
        "Are there any insights that lead to negative growth? Justify with specific reason."
      ],
      "metadata": {
        "id": "3MPXvC8up1cl"
      }
    },
    {
      "cell_type": "markdown",
      "source": [],
      "metadata": {
        "id": "GL8l1tdLp1cl"
      }
    },
    {
      "cell_type": "markdown",
      "source": [
        "#### Chart-20- "
      ],
      "metadata": {
        "id": "dw3OHdeJIz00"
      }
    },
    {
      "cell_type": "code",
      "source": [
        "# Chart - 20 visualization code\n",
        "\n"
      ],
      "metadata": {
        "id": "z_IV5spbqEn2"
      },
      "execution_count": 42,
      "outputs": []
    },
    {
      "cell_type": "markdown",
      "source": [
        "##### 1. Why did you pick the specific chart?"
      ],
      "metadata": {
        "id": "6PY1MVhmJZOs"
      }
    },
    {
      "cell_type": "markdown",
      "source": [],
      "metadata": {
        "id": "eY6VGSeMJZOt"
      }
    },
    {
      "cell_type": "markdown",
      "source": [
        "##### 2. What is/are the insight(s) found from the chart?"
      ],
      "metadata": {
        "id": "NWx5xGl5JZOu"
      }
    },
    {
      "cell_type": "markdown",
      "source": [],
      "metadata": {
        "id": "e_zCDlUHJZOu"
      }
    },
    {
      "cell_type": "markdown",
      "source": [
        "##### 3. Will the gained insights help creating a positive business impact? \n",
        "Are there any insights that lead to negative growth? Justify with specific reason."
      ],
      "metadata": {
        "id": "Kzg1ltiFJZOu"
      }
    },
    {
      "cell_type": "markdown",
      "source": [],
      "metadata": {
        "id": "XCAtA5wWJZOv"
      }
    },
    {
      "cell_type": "markdown",
      "source": [
        "### **III)** *MULTIVARIATE ANALYSIS*"
      ],
      "metadata": {
        "id": "nA_W62lZFcXf"
      }
    },
    {
      "cell_type": "markdown",
      "source": [
        "#### Chart-21- Correlation Heatmap"
      ],
      "metadata": {
        "id": "NC_X3p0fY2L0"
      }
    },
    {
      "cell_type": "markdown",
      "source": [],
      "metadata": {
        "id": "UbN_oBgNg_-x"
      }
    },
    {
      "cell_type": "code",
      "source": [],
      "metadata": {
        "id": "zRbqCNZbGnRl"
      },
      "execution_count": 42,
      "outputs": []
    },
    {
      "cell_type": "code",
      "source": [
        "# Correlation Heatmap visualization code\n",
        "\n"
      ],
      "metadata": {
        "id": "xyC9zolEZNRQ"
      },
      "execution_count": 43,
      "outputs": []
    },
    {
      "cell_type": "markdown",
      "source": [
        "###### 1. Why did you pick the specific chart?"
      ],
      "metadata": {
        "id": "UV0SzAkaZNRQ"
      }
    },
    {
      "cell_type": "markdown",
      "source": [],
      "metadata": {
        "id": "DVPuT8LYZNRQ"
      }
    },
    {
      "cell_type": "markdown",
      "source": [
        "###### 2. What is/are the insight(s) found from the chart?"
      ],
      "metadata": {
        "id": "YPEH6qLeZNRQ"
      }
    },
    {
      "cell_type": "markdown",
      "source": [],
      "metadata": {
        "id": "bfSqtnDqZNRR"
      }
    },
    {
      "cell_type": "markdown",
      "source": [],
      "metadata": {
        "id": "eNu8eUuDsBJv"
      }
    },
    {
      "cell_type": "code",
      "source": [],
      "metadata": {
        "id": "rPUwEmPJsLsM"
      },
      "execution_count": 43,
      "outputs": []
    },
    {
      "cell_type": "markdown",
      "source": [
        "#### Chart-22- Pair Plot "
      ],
      "metadata": {
        "id": "q29F0dvdveiT"
      }
    },
    {
      "cell_type": "markdown",
      "source": [],
      "metadata": {
        "id": "41RmOnIDgn4M"
      }
    },
    {
      "cell_type": "code",
      "source": [
        "# Pair Plot visualization code\n"
      ],
      "metadata": {
        "id": "V0NZ3Er_NvTW"
      },
      "execution_count": 44,
      "outputs": []
    },
    {
      "cell_type": "markdown",
      "source": [],
      "metadata": {
        "id": "P5kp-qR_VF5_"
      }
    },
    {
      "cell_type": "code",
      "source": [
        "# Pair Plot visualization code\n"
      ],
      "metadata": {
        "id": "o58-TEIhveiU"
      },
      "execution_count": 45,
      "outputs": []
    },
    {
      "cell_type": "markdown",
      "source": [
        "##### 1. Why did you pick the specific chart?"
      ],
      "metadata": {
        "id": "EXh0U9oCveiU"
      }
    },
    {
      "cell_type": "markdown",
      "source": [],
      "metadata": {
        "id": "eMmPjTByveiU"
      }
    },
    {
      "cell_type": "markdown",
      "source": [
        "##### 2. What is/are the insight(s) found from the chart?"
      ],
      "metadata": {
        "id": "22aHeOlLveiV"
      }
    },
    {
      "cell_type": "markdown",
      "source": [],
      "metadata": {
        "id": "uPQ8RGwHveiV"
      }
    },
    {
      "cell_type": "markdown",
      "source": [
        "## **5. Solution to Business Objective**"
      ],
      "metadata": {
        "id": "JcMwzZxoAimU"
      }
    },
    {
      "cell_type": "markdown",
      "source": [
        "#### What do you suggest the client to achieve Business Objective ? \n",
        "Explain Briefly."
      ],
      "metadata": {
        "id": "8G2x9gOozGDZ"
      }
    },
    {
      "cell_type": "markdown",
      "source": [],
      "metadata": {
        "id": "pASKb0qOza21"
      }
    },
    {
      "cell_type": "markdown",
      "source": [
        "# **Conclusion**"
      ],
      "metadata": {
        "id": "gCX9965dhzqZ"
      }
    },
    {
      "cell_type": "markdown",
      "source": [],
      "metadata": {
        "id": "Fjb1IsQkh3yE"
      }
    },
    {
      "cell_type": "markdown",
      "source": [
        "### ***Hurrah! You have successfully completed your EDA Capstone Project !!!***"
      ],
      "metadata": {
        "id": "gIfDvo9L0UH2"
      }
    }
  ]
}